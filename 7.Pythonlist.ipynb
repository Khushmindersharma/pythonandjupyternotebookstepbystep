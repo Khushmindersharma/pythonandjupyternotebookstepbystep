{
 "cells": [
  {
   "cell_type": "code",
   "execution_count": null,
   "id": "5648c032-1d28-4bd5-b779-d06c7b30e4fb",
   "metadata": {},
   "outputs": [],
   "source": [
    "# List in Python\n",
    "\n",
    "# Lists are used to store multiple items in a single variable\n",
    "\n",
    "# Lists are one of 4 built-in data types in python used to store colletions of data,the other 3 are Tuple,Set,Dictionary,\n",
    "# all with different qualities and usage.\n",
    "\n",
    "# Lists are the simplest containers that are an integal part of the Python language.\n",
    "# List need not be homogeneous always which makes it the most powerful tool in python.\n",
    "# A single list may contain DataTypes like Integers,Strings, as well as Objects.\n",
    "# Lists are mutable, and hence, they can be altered even after their creation.\n",
    "\n",
    "# List items are ordered , changeaable,and allow duplicate values.\n",
    "\n",
    "# Ordered\n",
    "# when we say that lists are ordered, it means that the items have a defined order,and that order will not change.\n",
    "# If you add new items to a list, the new items will be placed at the end of the list.\n",
    "\n",
    "# changeable\n",
    "# The list is changeable, meaning that we can change, add, and remove items in a list after it has been created.\n",
    "\n",
    "# Allow Duplicates\n",
    "# Since lists are indexed, lists can have items with the same value."
   ]
  },
  {
   "cell_type": "code",
   "execution_count": null,
   "id": "da70d889",
   "metadata": {},
   "outputs": [],
   "source": [
    "# Creating a list in python\n",
    "\n",
    "# Lists in python can be created by just placing the sequence inside the square brackets[]\n",
    "\n",
    "# p r o b e\n",
    "# 0 1 2 3 4 index\n",
    "#-5-4-3-2-1 negative index"
   ]
  },
  {
   "cell_type": "code",
   "execution_count": 1,
   "id": "bf43f5f7",
   "metadata": {},
   "outputs": [
    {
     "name": "stdout",
     "output_type": "stream",
     "text": [
      "['apple', 'banana', 'cherry']\n",
      "<class 'list'>\n"
     ]
    }
   ],
   "source": [
    "mylist = [\"apple\",\"banana\",\"cherry\"]\n",
    "\n",
    "print(mylist)\n",
    "print(type(mylist))"
   ]
  },
  {
   "cell_type": "code",
   "execution_count": 2,
   "id": "26283d01",
   "metadata": {},
   "outputs": [
    {
     "name": "stdout",
     "output_type": "stream",
     "text": [
      "['apple', 'Banana', 'apple', 'Cherry', 'Banana', 'Apple']\n"
     ]
    }
   ],
   "source": [
    "# Allow Duplicates\n",
    "\n",
    "mylist = [\"apple\",\"Banana\",\"apple\",\"Cherry\",\"Banana\",\"Apple\"]\n",
    "\n",
    "print(mylist)"
   ]
  },
  {
   "cell_type": "code",
   "execution_count": 3,
   "id": "0b11e13b",
   "metadata": {},
   "outputs": [
    {
     "name": "stdout",
     "output_type": "stream",
     "text": [
      "['Apple', 'Banana', 'Cherry']\n",
      "[2, 5, 8]\n",
      "[7.8, 8.9, 2.5]\n",
      "[True, False, True]\n"
     ]
    }
   ],
   "source": [
    "# data types in list\n",
    "\n",
    "list1 = [\"Apple\",\"Banana\",\"Cherry\"]\n",
    "list2 = [2,5,8]\n",
    "list3 = [7.8,8.9,2.5]\n",
    "list4 = [True, False,True]\n",
    "\n",
    "print(list1)\n",
    "print(list2)\n",
    "print(list3)\n",
    "print(list4)\n"
   ]
  },
  {
   "cell_type": "code",
   "execution_count": 4,
   "id": "b3842da7",
   "metadata": {},
   "outputs": [
    {
     "name": "stdout",
     "output_type": "stream",
     "text": [
      "[12, -8.5, -7, 2.3, 2, 5, 6, 'student', 'hello', True, False]\n"
     ]
    }
   ],
   "source": [
    "a = [ 12,-8.5,-7,2.3,2,5,6,\"student\",\"hello\",True,False]\n",
    "\n",
    "print(a)"
   ]
  },
  {
   "cell_type": "code",
   "execution_count": 5,
   "id": "5945325b",
   "metadata": {},
   "outputs": [
    {
     "name": "stdout",
     "output_type": "stream",
     "text": [
      "11\n"
     ]
    }
   ],
   "source": [
    "# length of list\n",
    "a = [ 12,-8.5,-7,2.3,2,5,6,\"student\",\"hello\",True,False]\n",
    "\n",
    "print(len(a))"
   ]
  },
  {
   "cell_type": "code",
   "execution_count": 6,
   "id": "7e258477",
   "metadata": {},
   "outputs": [
    {
     "name": "stdout",
     "output_type": "stream",
     "text": [
      "15\n"
     ]
    }
   ],
   "source": [
    "# Access items\n",
    "\n",
    "thislist = [ 12,15,26,78,14,25,96,142,52,22,6,5]\n",
    "\n",
    "print(thislist[1])"
   ]
  },
  {
   "cell_type": "code",
   "execution_count": 7,
   "id": "290e4c7c",
   "metadata": {},
   "outputs": [
    {
     "name": "stdout",
     "output_type": "stream",
     "text": [
      "52\n"
     ]
    }
   ],
   "source": [
    "thislist = [ 12,15,26,78,14,25,96,142,52,22,6,5]\n",
    "\n",
    "print(thislist[8])"
   ]
  },
  {
   "cell_type": "code",
   "execution_count": 8,
   "id": "6ba4d579",
   "metadata": {},
   "outputs": [
    {
     "name": "stdout",
     "output_type": "stream",
     "text": [
      "14\n"
     ]
    }
   ],
   "source": [
    "thislist = [ 12,15,26,78,14,25,96,142,52,22,6,5]\n",
    "\n",
    "print(thislist[-8])"
   ]
  },
  {
   "cell_type": "code",
   "execution_count": 9,
   "id": "a3cb7a8e",
   "metadata": {},
   "outputs": [
    {
     "name": "stdout",
     "output_type": "stream",
     "text": [
      "96\n"
     ]
    }
   ],
   "source": [
    "thislist = [ 12,15,26,78,14,25,96,142,52,22,6,5]\n",
    "\n",
    "print(thislist[-6])"
   ]
  },
  {
   "cell_type": "code",
   "execution_count": 10,
   "id": "d794c697",
   "metadata": {},
   "outputs": [
    {
     "name": "stdout",
     "output_type": "stream",
     "text": [
      "[12, 15, 26, 78, 14, 25]\n"
     ]
    }
   ],
   "source": [
    "# slicing in the list\n",
    "\n",
    "thislist = [ 12,15,26,78,14,25,96,142,52,22,6,5]\n",
    "\n",
    "print(thislist[0:6])"
   ]
  },
  {
   "cell_type": "code",
   "execution_count": 11,
   "id": "3bbfe369",
   "metadata": {},
   "outputs": [
    {
     "name": "stdout",
     "output_type": "stream",
     "text": [
      "[78, 14, 25, 96, 142, 52]\n"
     ]
    }
   ],
   "source": [
    "thislist = [ 12,15,26,78,14,25,96,142,52,22,6,5]\n",
    "\n",
    "print(thislist[3:9])"
   ]
  },
  {
   "cell_type": "code",
   "execution_count": 12,
   "id": "eab9d513",
   "metadata": {},
   "outputs": [
    {
     "name": "stdout",
     "output_type": "stream",
     "text": [
      "[78, 25, 142]\n"
     ]
    }
   ],
   "source": [
    "thislist = [ 12,15,26,78,14,25,96,142,52,22,6,5]\n",
    "\n",
    "print(thislist[3:9:2])"
   ]
  },
  {
   "cell_type": "code",
   "execution_count": 13,
   "id": "a4467804",
   "metadata": {},
   "outputs": [
    {
     "name": "stdout",
     "output_type": "stream",
     "text": [
      "[12, 26, 14, 96, 52, 6]\n"
     ]
    }
   ],
   "source": [
    "thislist = [ 12,15,26,78,14,25,96,142,52,22,6,5]\n",
    "\n",
    "print(thislist[0:12:2])"
   ]
  },
  {
   "cell_type": "code",
   "execution_count": 14,
   "id": "732e16b4",
   "metadata": {},
   "outputs": [
    {
     "name": "stdout",
     "output_type": "stream",
     "text": [
      "['apple', 'strawberry', 'cherry']\n"
     ]
    }
   ],
   "source": [
    "# Change Items\n",
    "\n",
    "thislist = [\"apple\",\"banana\",\"cherry\"]\n",
    "thislist[1] = \"strawberry\"\n",
    "print(thislist)"
   ]
  },
  {
   "cell_type": "code",
   "execution_count": 15,
   "id": "aa074f3e",
   "metadata": {},
   "outputs": [
    {
     "name": "stdout",
     "output_type": "stream",
     "text": [
      "[12, 14, ' students', 16, 8, 9, -5, -3, 41, -9]\n"
     ]
    }
   ],
   "source": [
    "a =[12,14,15,16,8,9,-5,-3,41,-9]\n",
    "\n",
    "a[2] =\" students\"\n",
    "\n",
    "print(a)"
   ]
  },
  {
   "cell_type": "code",
   "execution_count": 16,
   "id": "54a7c35b",
   "metadata": {},
   "outputs": [
    {
     "name": "stdout",
     "output_type": "stream",
     "text": [
      "[12, 14, 'books', 'pen', 'paper', 8, 9, -5, -3, 41, -9]\n"
     ]
    }
   ],
   "source": [
    "# change a range of item values\n",
    "\n",
    "a =[12,14,15,16,8,9,-5,-3,41,-9]\n",
    "\n",
    "a[2:4] = [\"books\", \"pen\",\"paper\"]\n",
    "print(a)\n"
   ]
  },
  {
   "cell_type": "code",
   "execution_count": 17,
   "id": "5b8fb387",
   "metadata": {},
   "outputs": [
    {
     "name": "stdout",
     "output_type": "stream",
     "text": [
      "[12, 14, 15, 78, 96, 25, -9]\n"
     ]
    }
   ],
   "source": [
    "# append in the list\n",
    "a = [12,14,15,78,96,25]\n",
    "a.append(-9)\n",
    "\n",
    "print(a)\n"
   ]
  },
  {
   "cell_type": "code",
   "execution_count": 18,
   "id": "0f04889a",
   "metadata": {},
   "outputs": [
    {
     "name": "stdout",
     "output_type": "stream",
     "text": [
      "[12, 14, 15, 96, 25, 'paper', 'pen', 56.23]\n"
     ]
    }
   ],
   "source": [
    "# remove item in list\n",
    "\n",
    "a = [12,14,15,78,96,25,\"paper\",\"pen\",56.23]\n",
    "\n",
    "a.remove(78)\n",
    "print(a)"
   ]
  },
  {
   "cell_type": "code",
   "execution_count": 19,
   "id": "36e008a0",
   "metadata": {},
   "outputs": [
    {
     "name": "stdout",
     "output_type": "stream",
     "text": [
      "['apple', 'hello']\n"
     ]
    }
   ],
   "source": [
    "m = [\"apple\",\"student\",\"hello\"]\n",
    "\n",
    "m.remove(\"student\")\n",
    "print(m)"
   ]
  },
  {
   "cell_type": "code",
   "execution_count": 20,
   "id": "5806743c",
   "metadata": {},
   "outputs": [
    {
     "name": "stdout",
     "output_type": "stream",
     "text": [
      "['Data', 'python', 5, 4, 3, 2, 1]\n"
     ]
    }
   ],
   "source": [
    "# how to reverse the list.\n",
    "\n",
    "mylist = [1,2,3,4,5,\"python\",\"Data\"]\n",
    "\n",
    "mylist.reverse()\n",
    "print(mylist)"
   ]
  },
  {
   "cell_type": "code",
   "execution_count": 22,
   "id": "b4411607",
   "metadata": {},
   "outputs": [
    {
     "name": "stdout",
     "output_type": "stream",
     "text": [
      "12\n",
      "the sum of the list is 457\n"
     ]
    }
   ],
   "source": [
    "l = [14,15,17,78,-9,-8,52,74,89,25,102,8]\n",
    "\n",
    "print(len(l))\n",
    "a = 0\n",
    "for i in range(12):\n",
    "    a = a + l[i]\n",
    "    i = i + 1\n",
    "print(\"the sum of the list is\" , a)"
   ]
  },
  {
   "cell_type": "code",
   "execution_count": 32,
   "id": "ddc3c606",
   "metadata": {},
   "outputs": [
    {
     "name": "stdout",
     "output_type": "stream",
     "text": [
      "10\n",
      " the multiple of list is 3628800\n"
     ]
    }
   ],
   "source": [
    "# multiply all the numbers of a list.\n",
    "\n",
    "l = [ 1,2,3,4,5,6,7,8,9,10]\n",
    "\n",
    "print(len(l))\n",
    "a = 1\n",
    "for i in range(10):\n",
    "    a = a * l[i]\n",
    "    i = i * 1\n",
    "print( \" the multiple of list is\", a)"
   ]
  },
  {
   "cell_type": "code",
   "execution_count": null,
   "id": "f23cf097",
   "metadata": {},
   "outputs": [],
   "source": []
  }
 ],
 "metadata": {
  "kernelspec": {
   "display_name": "Python 3",
   "language": "python",
   "name": "python3"
  },
  "language_info": {
   "codemirror_mode": {
    "name": "ipython",
    "version": 3
   },
   "file_extension": ".py",
   "mimetype": "text/x-python",
   "name": "python",
   "nbconvert_exporter": "python",
   "pygments_lexer": "ipython3",
   "version": "3.12.6"
  }
 },
 "nbformat": 4,
 "nbformat_minor": 5
}
