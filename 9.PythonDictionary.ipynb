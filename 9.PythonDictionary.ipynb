{
 "cells": [
  {
   "cell_type": "code",
   "execution_count": null,
   "id": "84c0f379",
   "metadata": {},
   "outputs": [],
   "source": [
    "# Dictionary\n",
    "\n",
    "# Dictionary are used to store data values in key : value pairs.\n",
    "# Dictionarys and lists share the following characteristics:\n",
    "\n",
    "# Both are mutable.\n",
    "# Both are dynamic,They can grow and shink as needed.\n",
    "# Both can be nested. A list can contain another list.A dictionary can contain another dictionary.A dictionary can also contain a list and vice versa.\n",
    "\n",
    "# Dictionary items are ordered,changeable, and does not allow duplicates.\n",
    "# Dictionary items are presented in key: value pairs, and can be referred to by using the key name.\n",
    "# As of python version 3.7,dictionary are ordered,it means that the items have a defined order,and that order will not change.\n",
    "# Unordered means that the items does not have a defined order,you cannot refer to an  using an index.\n",
    "\n",
    "# Dictionaries are changeable,meaning that we can change ,add,or remove items after the dictionary has been created.\n",
    "# duplicates not allowed\n",
    "# Dictionaries cannot have two items with the same key.\n",
    "\n",
    "\n"
   ]
  },
  {
   "cell_type": "code",
   "execution_count": 2,
   "id": "1e1e7d3e",
   "metadata": {},
   "outputs": [
    {
     "name": "stdout",
     "output_type": "stream",
     "text": [
      "{'id': '1234AB', 'color': 'black', 'year': 1987}\n",
      "<class 'dict'>\n"
     ]
    }
   ],
   "source": [
    "# Creating a dictionary\n",
    "\n",
    "a = {\n",
    "    \"id\"   :\"1234AB\",\n",
    "    \"color\":\"black\",\n",
    "    \"year\" :1987\n",
    "    }\n",
    "\n",
    "print(a)\n",
    "print(type(a))"
   ]
  },
  {
   "cell_type": "code",
   "execution_count": 5,
   "id": "e2b55be2",
   "metadata": {},
   "outputs": [
    {
     "name": "stdout",
     "output_type": "stream",
     "text": [
      "black\n",
      "1987\n"
     ]
    }
   ],
   "source": [
    "print(a[\"color\"])\n",
    "print(a[\"year\"])"
   ]
  },
  {
   "cell_type": "code",
   "execution_count": 6,
   "id": "6c98461e",
   "metadata": {},
   "outputs": [
    {
     "name": "stdout",
     "output_type": "stream",
     "text": [
      "{'ID': '123ab', 'color': 'Black', 'Year': '2000'}\n"
     ]
    }
   ],
   "source": [
    "a = {\n",
    "    \"ID\"    :\"123ab\",\n",
    "    \"color\" :\"Black\",\n",
    "    \"Year\"  :\"1964\",\n",
    "    \"Year\"  :\"2000\"\n",
    "}\n",
    "\n",
    "print(a)"
   ]
  },
  {
   "cell_type": "code",
   "execution_count": 7,
   "id": "2b532f30",
   "metadata": {},
   "outputs": [
    {
     "name": "stdout",
     "output_type": "stream",
     "text": [
      "3\n"
     ]
    }
   ],
   "source": [
    "# dictionary Length\n",
    "\n",
    "print(len(a))"
   ]
  },
  {
   "cell_type": "code",
   "execution_count": 9,
   "id": "275c3787",
   "metadata": {},
   "outputs": [
    {
     "name": "stdout",
     "output_type": "stream",
     "text": [
      "{'ID': '123ab', 'color': 'Black', 'Year': 1964, 'a': [1, 2, 3, 4, 5], 'b': (1, 2.2, 3, 3.4, 5, 1), 'c': False}\n"
     ]
    }
   ],
   "source": [
    "dict = {\n",
    "    \"ID\"    :\"123ab\",\n",
    "    \"color\" :\"Black\",\n",
    "    \"Year\"  :1964,\n",
    "    \"a\"     :[1,2,3,4,5],\n",
    "    \"b\"     :(1,2.2,3,3.4,5,1), \n",
    "    \"c\"     :False\n",
    "}\n",
    "\n",
    "print(dict)"
   ]
  },
  {
   "cell_type": "code",
   "execution_count": 16,
   "id": "4eb4569a",
   "metadata": {},
   "outputs": [
    {
     "name": "stdout",
     "output_type": "stream",
     "text": [
      "{'name': 'swati', 'age': '27', 'country': 'India'}\n",
      "<class 'dict'>\n",
      "swati\n",
      "swati\n"
     ]
    }
   ],
   "source": [
    "x = {\n",
    "    \"name\"      :\"swati\",\n",
    "    \"age\"       :\"27\",\n",
    "    \"country\"   :\"India\"\n",
    "    }\n",
    "\n",
    "print(x)\n",
    "print(type(x))\n",
    "print(x[\"name\"])\n",
    "print(x.get(\"name\"))"
   ]
  },
  {
   "cell_type": "code",
   "execution_count": 17,
   "id": "6132ad88",
   "metadata": {},
   "outputs": [
    {
     "data": {
      "text/plain": [
       "dict_keys(['name', 'age', 'country'])"
      ]
     },
     "execution_count": 17,
     "metadata": {},
     "output_type": "execute_result"
    }
   ],
   "source": [
    "x = {\n",
    "    \"name\"      :\"swati\",\n",
    "    \"age\"       :\"27\",\n",
    "    \"country\"   :\"India\"\n",
    "    }\n",
    "\n",
    "a = x.keys()\n",
    "a"
   ]
  },
  {
   "cell_type": "code",
   "execution_count": 18,
   "id": "fa3e9e5c",
   "metadata": {},
   "outputs": [
    {
     "data": {
      "text/plain": [
       "dict_values(['swati', '27', 'India'])"
      ]
     },
     "execution_count": 18,
     "metadata": {},
     "output_type": "execute_result"
    }
   ],
   "source": [
    "x = {\n",
    "    \"name\"      :\"swati\",\n",
    "    \"age\"       :\"27\",\n",
    "    \"country\"   :\"India\"\n",
    "    }\n",
    "\n",
    "y = x.values()\n",
    "y"
   ]
  },
  {
   "cell_type": "code",
   "execution_count": 19,
   "id": "a4e78ed6",
   "metadata": {},
   "outputs": [
    {
     "name": "stdout",
     "output_type": "stream",
     "text": [
      "{'name': 'swati', 'age': 28, 'country': 'India'}\n"
     ]
    }
   ],
   "source": [
    "x = {\n",
    "    \"name\"      :\"swati\",\n",
    "    \"age\"       :\"27\",\n",
    "    \"country\"   :\"India\"\n",
    "    }\n",
    "\n",
    "x[\"age\"] = 28\n",
    "\n",
    "print(x)"
   ]
  },
  {
   "cell_type": "code",
   "execution_count": 20,
   "id": "7f239091",
   "metadata": {},
   "outputs": [
    {
     "name": "stdout",
     "output_type": "stream",
     "text": [
      "{'name': 'swati', 'age': '27', 'country': 'India', 'mail ID': 'priya@gmail.com'}\n"
     ]
    }
   ],
   "source": [
    "x = {\n",
    "    \"name\"      :\"swati\",\n",
    "    \"age\"       :\"27\",\n",
    "    \"country\"   :\"India\"\n",
    "    }\n",
    "\n",
    "x.update({\"mail ID\" : \"priya@gmail.com\"})\n",
    "print(x)"
   ]
  },
  {
   "cell_type": "code",
   "execution_count": 21,
   "id": "34c7111a",
   "metadata": {},
   "outputs": [
    {
     "name": "stdout",
     "output_type": "stream",
     "text": [
      "{'name': 'swati', 'country': 'India'}\n"
     ]
    }
   ],
   "source": [
    "x = {\n",
    "    \"name\"      :\"swati\",\n",
    "    \"age\"       :\"27\",\n",
    "    \"country\"   :\"India\"\n",
    "    }\n",
    "\n",
    "x.pop(\"age\")\n",
    "print(x)"
   ]
  },
  {
   "cell_type": "code",
   "execution_count": 23,
   "id": "89633565",
   "metadata": {},
   "outputs": [
    {
     "name": "stdout",
     "output_type": "stream",
     "text": [
      "{'name': 'swati', 'country': 'India'}\n"
     ]
    }
   ],
   "source": [
    "x = {\n",
    "    \"name\"      :\"swati\",\n",
    "    \"age\"       :\"27\",\n",
    "    \"country\"   :\"India\"\n",
    "    }\n",
    "\n",
    "del x[\"age\"]\n",
    "print(x)"
   ]
  },
  {
   "cell_type": "code",
   "execution_count": 35,
   "id": "8b014bc8",
   "metadata": {},
   "outputs": [
    {
     "ename": "SyntaxError",
     "evalue": "cannot delete set display (2728208421.py, line 8)",
     "output_type": "error",
     "traceback": [
      "\u001b[0;36m  Cell \u001b[0;32mIn[35], line 8\u001b[0;36m\u001b[0m\n\u001b[0;31m    del {x}\u001b[0m\n\u001b[0m        ^\u001b[0m\n\u001b[0;31mSyntaxError\u001b[0m\u001b[0;31m:\u001b[0m cannot delete set display\n"
     ]
    }
   ],
   "source": [
    "# deleting the whole dictionary\n",
    "x = {\n",
    "    \"name\"      :\"swati\",\n",
    "    \"age\"       :\"27\",\n",
    "    \"country\"   :\"India\"\n",
    "    }\n",
    "\n",
    "del {x}\n",
    "print(x)\n"
   ]
  },
  {
   "cell_type": "code",
   "execution_count": 25,
   "id": "c9a2c5f3",
   "metadata": {},
   "outputs": [
    {
     "name": "stdout",
     "output_type": "stream",
     "text": [
      "{}\n",
      "<class 'dict'>\n"
     ]
    }
   ],
   "source": [
    "x = {\n",
    "    \"name\"      :\"swati\",\n",
    "    \"age\"       :\"27\",\n",
    "    \"country\"   :\"India\"\n",
    "    }\n",
    "\n",
    "x.clear()\n",
    "print(x)\n",
    "print(type(x))"
   ]
  },
  {
   "cell_type": "code",
   "execution_count": 26,
   "id": "7780d4ea",
   "metadata": {},
   "outputs": [
    {
     "name": "stdout",
     "output_type": "stream",
     "text": [
      "{1: 10, 2: 20, 3: 30, 4: 40, 5: 50, 6: 60}\n"
     ]
    }
   ],
   "source": [
    "dict1 = {\n",
    "    1:10,\n",
    "    2:20\n",
    "}\n",
    "\n",
    "dict2 ={\n",
    "    3:30,\n",
    "    4:40\n",
    "}\n",
    "\n",
    "dict3 = {\n",
    "    5:50,\n",
    "    6:60\n",
    "}\n",
    "\n",
    "dict4 = {}\n",
    "for d in (dict1,dict2,dict3) : dict4.update(d)\n",
    "\n",
    "print(dict4)"
   ]
  },
  {
   "cell_type": "code",
   "execution_count": 30,
   "id": "33751a99",
   "metadata": {},
   "outputs": [
    {
     "name": "stdout",
     "output_type": "stream",
     "text": [
      "{1: 1, 2: 4, 3: 9, 4: 16, 5: 25, 6: 36, 7: 49, 8: 64, 9: 81, 10: 100, 11: 121, 12: 144, 13: 169, 14: 196, 15: 225}\n"
     ]
    }
   ],
   "source": [
    "d = {}\n",
    "\n",
    "for x in range(1,16):\n",
    "    d[x] = x**2\n",
    "print(d)"
   ]
  },
  {
   "cell_type": "code",
   "execution_count": 36,
   "id": "79be15c3",
   "metadata": {},
   "outputs": [
    {
     "name": "stdout",
     "output_type": "stream",
     "text": [
      "Key is present in the dictionary\n",
      "Key is not present in the dictionary\n"
     ]
    }
   ],
   "source": [
    "# Check whether a given key already exists in a dictionary\n",
    "\n",
    "d = {1:10,2:20,3:30,4:40,5:50,6:60}\n",
    "\n",
    "def is_key_present(x):\n",
    "    if x in d:\n",
    "        print(\"Key is present in the dictionary\")\n",
    "    else:\n",
    "        print(\"Key is not present in the dictionary\")\n",
    "\n",
    "\n",
    "is_key_present(5)\n",
    "is_key_present(9)"
   ]
  }
 ],
 "metadata": {
  "kernelspec": {
   "display_name": "Python 3",
   "language": "python",
   "name": "python3"
  },
  "language_info": {
   "codemirror_mode": {
    "name": "ipython",
    "version": 3
   },
   "file_extension": ".py",
   "mimetype": "text/x-python",
   "name": "python",
   "nbconvert_exporter": "python",
   "pygments_lexer": "ipython3",
   "version": "3.12.6"
  }
 },
 "nbformat": 4,
 "nbformat_minor": 5
}
