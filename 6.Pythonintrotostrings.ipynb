{
 "cells": [
  {
   "cell_type": "code",
   "execution_count": null,
   "id": "5648c032-1d28-4bd5-b779-d06c7b30e4fb",
   "metadata": {},
   "outputs": [],
   "source": [
    "# A string is a data structure in python that represents a sequence of charahcers.\n",
    "# It is an immutable data type,meaning that once you have created a string,you cannot change it.\n",
    "# Strings are used widely in many diffrent applications,such as stroing and manipulating text data,representing names,\n",
    "# address, and other types of data that can be represented as text.\n",
    "\n",
    "# Python string is the collection of the characters surrounded by single quotes,double quotes, or triple quotes.\n",
    "# The computer does not understand the characters: internally,it stores manipulated character as the combination of the 0's and 1's.\n",
    "\n",
    "# Each character is encoded in the ASCII or unicode character.\n",
    "# So we can say that Python strings are also called the collection of unicode characters.\n",
    "# In python,strings can be created by enclosing the character or the sequence of characters in the quotes.\n",
    "# Python allows us to use single quotes,double quotes or triple quotes to create the string. "
   ]
  },
  {
   "cell_type": "code",
   "execution_count": null,
   "id": "eb622ab4",
   "metadata": {},
   "outputs": [],
   "source": [
    "# string = ' This is a python'\n",
    "# print(\"This is a python\")\n",
    "\n",
    "# indexing in string\n",
    "\n",
    "# H e l l o\n",
    "# 0 1 2 3 4\n",
    "#-5 -4 -3 -2 -1"
   ]
  },
  {
   "cell_type": "code",
   "execution_count": 1,
   "id": "371fd845",
   "metadata": {},
   "outputs": [
    {
     "name": "stdout",
     "output_type": "stream",
     "text": [
      " Hello\n"
     ]
    }
   ],
   "source": [
    "# Creating string in python\n",
    "\n",
    "a = \" Hello\"\n",
    "print(a) "
   ]
  },
  {
   "cell_type": "code",
   "execution_count": 2,
   "id": "1ca6c6f8",
   "metadata": {},
   "outputs": [
    {
     "name": "stdout",
     "output_type": "stream",
     "text": [
      " We are learning python and this is day 7\n",
      "<class 'str'>\n"
     ]
    }
   ],
   "source": [
    "b = \" We are learning python and this is day 7\"\n",
    "print(b)\n",
    "print(type(b))"
   ]
  },
  {
   "cell_type": "code",
   "execution_count": 5,
   "id": "0f63c897",
   "metadata": {},
   "outputs": [
    {
     "name": "stdout",
     "output_type": "stream",
     "text": [
      " By 55,000 years ago, the first modern humans, or Homo sapiens, had arrived on the Indian subcontinent from Africa, where they had earlier evolved.[28][29][30] \n",
      "The earliest known modern human remains in South Asia date to about 30,000 years ago.[28] After 6500 BCE, evidence for domestication of food crops and animals, \n",
      "construction of permanent structures, and storage of agricultural surplus appeared in Mehrgarh and other sites in Balochistan, Pakistan.[84] These gradually developed \n",
      "into the Indus Valley Civilisation,[85][84] the first urban culture in South Asia,[86] which flourished during 2500–1900 BCE in Pakistan and western India.[87] Centred \n",
      "around cities such as Mohenjo-daro, Harappa, Dholavira, and Kalibangan, and relying on varied forms of subsistence, the civilisation engaged robustly in crafts production \n",
      "and wide-ranging trade.[8\n"
     ]
    }
   ],
   "source": [
    "# Multiline strings\n",
    "# \"\"\"  Triple inverted commas is used to make multiple line strings\"\"\"\n",
    "\n",
    "b = \"\"\" By 55,000 years ago, the first modern humans, or Homo sapiens, had arrived on the Indian subcontinent from Africa, where they had earlier evolved.[28][29][30] \n",
    "The earliest known modern human remains in South Asia date to about 30,000 years ago.[28] After 6500 BCE, evidence for domestication of food crops and animals, \n",
    "construction of permanent structures, and storage of agricultural surplus appeared in Mehrgarh and other sites in Balochistan, Pakistan.[84] These gradually developed \n",
    "into the Indus Valley Civilisation,[85][84] the first urban culture in South Asia,[86] which flourished during 2500–1900 BCE in Pakistan and western India.[87] Centred \n",
    "around cities such as Mohenjo-daro, Harappa, Dholavira, and Kalibangan, and relying on varied forms of subsistence, the civilisation engaged robustly in crafts production \n",
    "and wide-ranging trade.[8\"\"\"\n",
    "print(b)"
   ]
  },
  {
   "cell_type": "code",
   "execution_count": 11,
   "id": "de84c61b",
   "metadata": {},
   "outputs": [
    {
     "name": "stdout",
     "output_type": "stream",
     "text": [
      " \n"
     ]
    }
   ],
   "source": [
    "# Indexing of strings\n",
    "\n",
    "a = \" h e l l o   s t u d e n t s\"\n",
    "# = \" 0 1 2 3 4 5 6 7 8 9 10 11 12\"\n",
    "print(a[-2])"
   ]
  },
  {
   "cell_type": "code",
   "execution_count": 12,
   "id": "8f99bcb0",
   "metadata": {},
   "outputs": [
    {
     "name": "stdout",
     "output_type": "stream",
     "text": [
      "n\n"
     ]
    }
   ],
   "source": [
    "# = \" 0 1 2 3 4 5 6 7 8 9 10 11 12\"\n",
    "a = \"How is your studies going on?\"\n",
    "\n",
    "print(a[-2])"
   ]
  },
  {
   "cell_type": "code",
   "execution_count": 13,
   "id": "bd9b026b",
   "metadata": {},
   "outputs": [
    {
     "name": "stdout",
     "output_type": "stream",
     "text": [
      "Hello\n"
     ]
    }
   ],
   "source": [
    "# slicing of strings\n",
    "# removal of sub string is called slicing\n",
    "\n",
    "b = \"Hello students how are you?\"\n",
    "\n",
    "print(b[0:5])\n",
    "\n"
   ]
  },
  {
   "cell_type": "code",
   "execution_count": 14,
   "id": "d0f9b803",
   "metadata": {},
   "outputs": [
    {
     "name": "stdout",
     "output_type": "stream",
     "text": [
      "students how\n"
     ]
    }
   ],
   "source": [
    "b = \"Hello students how are you?\"\n",
    "\n",
    "print(b[6:18])"
   ]
  },
  {
   "cell_type": "code",
   "execution_count": 15,
   "id": "37e4fbb1",
   "metadata": {},
   "outputs": [
    {
     "name": "stdout",
     "output_type": "stream",
     "text": [
      "Hlosuet o \n"
     ]
    }
   ],
   "source": [
    "# n-1 at the end \n",
    "b = \"Hello students how are you?\"\n",
    "\n",
    "print(b[0:20:2])"
   ]
  },
  {
   "cell_type": "code",
   "execution_count": 16,
   "id": "550e85b1",
   "metadata": {},
   "outputs": [
    {
     "name": "stdout",
     "output_type": "stream",
     "text": [
      "?uoy era woh stneduts olleH\n"
     ]
    }
   ],
   "source": [
    "# reverse the string\n",
    "\n",
    "b = \"Hello students how are you?\"\n",
    "\n",
    "print(b[::-1])"
   ]
  },
  {
   "cell_type": "code",
   "execution_count": 23,
   "id": "21625eed",
   "metadata": {},
   "outputs": [
    {
     "name": "stdout",
     "output_type": "stream",
     "text": [
      "Hello students how are you?\n",
      "Length of this is : 27\n",
      "\n",
      "27\n"
     ]
    }
   ],
   "source": [
    "# finding the length of the string\n",
    "\n",
    "b = \"Hello students how are you?\"\n",
    "print(b)\n",
    "print(\"Length of this is :\", len(b))\n",
    "print()\n",
    "print(len(b))"
   ]
  },
  {
   "cell_type": "code",
   "execution_count": 24,
   "id": "97260c9f",
   "metadata": {},
   "outputs": [
    {
     "name": "stdout",
     "output_type": "stream",
     "text": [
      " HELLO HOW ARE YOU\n"
     ]
    }
   ],
   "source": [
    "# upper method\n",
    "\n",
    "a = \" Hello how are you\"\n",
    "\n",
    "print(a.upper())\n"
   ]
  },
  {
   "cell_type": "code",
   "execution_count": 25,
   "id": "4084450f",
   "metadata": {},
   "outputs": [
    {
     "name": "stdout",
     "output_type": "stream",
     "text": [
      " this is a example\n"
     ]
    }
   ],
   "source": [
    "# lower method\n",
    "\n",
    "b = \" This is a example\"\n",
    "\n",
    "print(b.lower())"
   ]
  },
  {
   "cell_type": "code",
   "execution_count": 29,
   "id": "83a21f78",
   "metadata": {},
   "outputs": [
    {
     "name": "stdout",
     "output_type": "stream",
     "text": [
      "Bye How are you bye\n"
     ]
    }
   ],
   "source": [
    "# replace function \n",
    "\n",
    "d = \"Hello How are you\"\n",
    "\n",
    "print(d.replace(\"Hello\",\"Bye\"))"
   ]
  },
  {
   "cell_type": "code",
   "execution_count": 31,
   "id": "8c6983a6",
   "metadata": {},
   "outputs": [
    {
     "name": "stdout",
     "output_type": "stream",
     "text": [
      "10\n"
     ]
    }
   ],
   "source": [
    "# find method()\n",
    "\n",
    "a = \"Python is great\"\n",
    "b=a.find(\"g\")\n",
    "print(b)\n",
    "\n",
    "\n",
    "\n"
   ]
  },
  {
   "cell_type": "code",
   "execution_count": 32,
   "id": "6edd61d8",
   "metadata": {},
   "outputs": [
    {
     "name": "stdout",
     "output_type": "stream",
     "text": [
      "10\n"
     ]
    }
   ],
   "source": [
    "a = \"Python is great\"\n",
    "\n",
    "b=a.find(\"g\")\n",
    "print(b)"
   ]
  },
  {
   "cell_type": "code",
   "execution_count": null,
   "id": "8e1a2af9",
   "metadata": {},
   "outputs": [],
   "source": []
  }
 ],
 "metadata": {
  "kernelspec": {
   "display_name": "Python 3",
   "language": "python",
   "name": "python3"
  },
  "language_info": {
   "codemirror_mode": {
    "name": "ipython",
    "version": 3
   },
   "file_extension": ".py",
   "mimetype": "text/x-python",
   "name": "python",
   "nbconvert_exporter": "python",
   "pygments_lexer": "ipython3",
   "version": "3.12.6"
  }
 },
 "nbformat": 4,
 "nbformat_minor": 5
}
