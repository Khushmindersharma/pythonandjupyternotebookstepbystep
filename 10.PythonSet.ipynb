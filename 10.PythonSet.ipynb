{
 "cells": [
  {
   "cell_type": "code",
   "execution_count": 1,
   "id": "84c0f379",
   "metadata": {},
   "outputs": [
    {
     "name": "stdout",
     "output_type": "stream",
     "text": [
      "{'animals', 'cat', 'ball'}\n"
     ]
    }
   ],
   "source": [
    "# Sets\n",
    "\n",
    "# Perhaps you recall learning about sets and set theory at some point in your mathematical education.\n",
    "# Maybe you even remember Venn Diagrams:\n",
    "\n",
    "# A set can be thought of simply as well-defined collection of distinct objects,typically called elements or members.\n",
    "# Grouping objects into a set can be useful in programming as well, and python privides a build-in set type to do so.\n",
    "\n",
    "# Sets are used to store multiple items in a single variable.\n",
    "# Set is one of 4 built-in data types in python used to store collections of data, the other 3 are list,tuple and dictionary all with different qualities and usage.\n",
    "\n",
    "# A set is a collection which is unordered,unchangeable*,and unindexed.\n",
    "\n",
    "# Creating a set\n",
    "\n",
    "a = { \"animals\",\"ball\",\"cat\"}\n",
    "print(a)\n",
    "\n"
   ]
  },
  {
   "cell_type": "code",
   "execution_count": null,
   "id": "60300b8c",
   "metadata": {},
   "outputs": [],
   "source": [
    "# Set items are unordered, unchangeable, and do not allow duplicate values.\n",
    "\n",
    "# Unordered means that the items in a set do not have a defined order.\n",
    "# Set items can appear in a different order every time you use them,and cannot be referred to by index or key.\n",
    "\n",
    "# Unchangeable\n",
    "# Set items are unchangeable,meaning that we cannot change the items after the set has been created.\n",
    "# Once a set is created,you cannot change its items,but you can remove items and add new items.\n",
    "\n",
    "# Duplicates not allowed.\n",
    "# Set cannot have two items with the same value."
   ]
  },
  {
   "cell_type": "code",
   "execution_count": 3,
   "id": "d9db5eb9",
   "metadata": {},
   "outputs": [
    {
     "name": "stdout",
     "output_type": "stream",
     "text": [
      "{'animals', 'cat', 'ball'}\n",
      "<class 'set'>\n"
     ]
    }
   ],
   "source": [
    "a = { \n",
    "    \"animals\",\n",
    "    \"ball\",\n",
    "    \"cat\"\n",
    "}\n",
    "\n",
    "print(a)\n",
    "print(type(a))"
   ]
  },
  {
   "cell_type": "code",
   "execution_count": 4,
   "id": "2dcda0dd",
   "metadata": {},
   "outputs": [
    {
     "ename": "TypeError",
     "evalue": "'set' object is not subscriptable",
     "output_type": "error",
     "traceback": [
      "\u001b[0;31m---------------------------------------------------------------------------\u001b[0m",
      "\u001b[0;31mTypeError\u001b[0m                                 Traceback (most recent call last)",
      "Cell \u001b[0;32mIn[4], line 7\u001b[0m\n\u001b[1;32m      1\u001b[0m a \u001b[38;5;241m=\u001b[39m { \n\u001b[1;32m      2\u001b[0m     \u001b[38;5;124m\"\u001b[39m\u001b[38;5;124manimals\u001b[39m\u001b[38;5;124m\"\u001b[39m,\n\u001b[1;32m      3\u001b[0m     \u001b[38;5;124m\"\u001b[39m\u001b[38;5;124mball\u001b[39m\u001b[38;5;124m\"\u001b[39m,\n\u001b[1;32m      4\u001b[0m     \u001b[38;5;124m\"\u001b[39m\u001b[38;5;124mcat\u001b[39m\u001b[38;5;124m\"\u001b[39m\n\u001b[1;32m      5\u001b[0m }\n\u001b[0;32m----> 7\u001b[0m \u001b[38;5;28mprint\u001b[39m(\u001b[43ma\u001b[49m\u001b[43m[\u001b[49m\u001b[38;5;241;43m0\u001b[39;49m\u001b[43m]\u001b[49m)\n",
      "\u001b[0;31mTypeError\u001b[0m: 'set' object is not subscriptable"
     ]
    }
   ],
   "source": [
    "a = { \n",
    "    \"animals\",\n",
    "    \"ball\",\n",
    "    \"cat\"\n",
    "}\n",
    "\n",
    "print(a[0])"
   ]
  },
  {
   "cell_type": "code",
   "execution_count": 5,
   "id": "e1fa1b3b",
   "metadata": {},
   "outputs": [
    {
     "name": "stdout",
     "output_type": "stream",
     "text": [
      "{'animals', 'cat', 'ball'}\n"
     ]
    }
   ],
   "source": [
    "# Duplicate not allowed\n",
    "\n",
    "a = { \n",
    "    \"animals\",\n",
    "    \"ball\",\n",
    "    \"cat\",\n",
    "    \"ball\",\n",
    "    \"cat\"\n",
    "}\n",
    "\n",
    "print(a)"
   ]
  },
  {
   "cell_type": "code",
   "execution_count": 6,
   "id": "4cde784d",
   "metadata": {},
   "outputs": [
    {
     "name": "stdout",
     "output_type": "stream",
     "text": [
      "{1, 2, 'cat', 3, 'animals', 'ball'}\n"
     ]
    }
   ],
   "source": [
    "a = { \n",
    "    \"animals\",\n",
    "    \"ball\",\n",
    "    \"cat\",\n",
    "    \"ball\",\n",
    "    \"cat\",\n",
    "    \"ball\",\n",
    "    \"ball\",\n",
    "    1,2,3,True\n",
    "}\n",
    "\n",
    "print(a)"
   ]
  },
  {
   "cell_type": "code",
   "execution_count": 7,
   "id": "345f1ffd",
   "metadata": {},
   "outputs": [
    {
     "name": "stdout",
     "output_type": "stream",
     "text": [
      "{1, 2, 'cat', 3, 'animals', 'ball'}\n",
      "6\n"
     ]
    }
   ],
   "source": [
    "# Get the length of a set\n",
    "a = { \n",
    "    \"animals\",\n",
    "    \"ball\",\n",
    "    \"cat\",\n",
    "    \"ball\",\n",
    "    \"cat\",\n",
    "    \"ball\",\n",
    "    \"ball\",\n",
    "    1,2,3,True\n",
    "}\n",
    "print(a)\n",
    "print(len(a))\n"
   ]
  },
  {
   "cell_type": "code",
   "execution_count": 9,
   "id": "57cd8108",
   "metadata": {},
   "outputs": [
    {
     "name": "stdout",
     "output_type": "stream",
     "text": [
      "{1, 2, 3, 4} {1.2, 2.3, 3.1, 4.5} {'a', 'b', 'c'} {False, True}\n"
     ]
    }
   ],
   "source": [
    "# set items - data types.\n",
    "\n",
    "x1 ={1,2,3,4}\n",
    "x2 ={1.2,2.3,3.1,4.5}\n",
    "x3 ={\"a\",\"b\",\"c\"}\n",
    "x4 ={True,False,True}\n",
    "\n",
    "print(x1,x2,x3,x4)"
   ]
  },
  {
   "cell_type": "code",
   "execution_count": 10,
   "id": "b82a33b0",
   "metadata": {},
   "outputs": [
    {
     "name": "stdout",
     "output_type": "stream",
     "text": [
      "{1, 2, 2.1, 2.3, -5, 'apple', (6+3j)}\n"
     ]
    }
   ],
   "source": [
    "m = {1,2,-5,2.1,2.3,6+3j,\"apple\",True}\n",
    "\n",
    "print(m)"
   ]
  },
  {
   "cell_type": "code",
   "execution_count": 11,
   "id": "d18bd63f",
   "metadata": {},
   "outputs": [
    {
     "ename": "TypeError",
     "evalue": "unhashable type: 'list'",
     "output_type": "error",
     "traceback": [
      "\u001b[0;31m---------------------------------------------------------------------------\u001b[0m",
      "\u001b[0;31mTypeError\u001b[0m                                 Traceback (most recent call last)",
      "Cell \u001b[0;32mIn[11], line 1\u001b[0m\n\u001b[0;32m----> 1\u001b[0m x5 \u001b[38;5;241m=\u001b[39m {[\u001b[38;5;241m1\u001b[39m,\u001b[38;5;241m2\u001b[39m,\u001b[38;5;241m3\u001b[39m,\u001b[38;5;241m4\u001b[39m]}\n\u001b[1;32m      3\u001b[0m \u001b[38;5;28mprint\u001b[39m(x5)\n",
      "\u001b[0;31mTypeError\u001b[0m: unhashable type: 'list'"
     ]
    }
   ],
   "source": [
    "x5 = {[1,2,3,4]}\n",
    "\n",
    "print(x5)"
   ]
  },
  {
   "cell_type": "code",
   "execution_count": 12,
   "id": "1a7b2d31",
   "metadata": {},
   "outputs": [
    {
     "name": "stdout",
     "output_type": "stream",
     "text": [
      "{(1, 2, 3, 4)}\n"
     ]
    }
   ],
   "source": [
    "# tuple\n",
    "x6 = {(1,2,3,4)}\n",
    "\n",
    "print(x6)"
   ]
  },
  {
   "cell_type": "code",
   "execution_count": 13,
   "id": "ae4b3347",
   "metadata": {},
   "outputs": [
    {
     "ename": "TypeError",
     "evalue": "unhashable type: 'dict'",
     "output_type": "error",
     "traceback": [
      "\u001b[0;31m---------------------------------------------------------------------------\u001b[0m",
      "\u001b[0;31mTypeError\u001b[0m                                 Traceback (most recent call last)",
      "Cell \u001b[0;32mIn[13], line 3\u001b[0m\n\u001b[1;32m      1\u001b[0m \u001b[38;5;66;03m# Dictionary\u001b[39;00m\n\u001b[0;32m----> 3\u001b[0m x7 \u001b[38;5;241m=\u001b[39m {{\u001b[38;5;124m\"\u001b[39m\u001b[38;5;124ma\u001b[39m\u001b[38;5;124m\"\u001b[39m:\u001b[38;5;241m1\u001b[39m,\u001b[38;5;124m\"\u001b[39m\u001b[38;5;124mb\u001b[39m\u001b[38;5;124m\"\u001b[39m:\u001b[38;5;241m2\u001b[39m}}\n\u001b[1;32m      5\u001b[0m \u001b[38;5;28mprint\u001b[39m(x7)\n",
      "\u001b[0;31mTypeError\u001b[0m: unhashable type: 'dict'"
     ]
    }
   ],
   "source": [
    "# Dictionary\n",
    "\n",
    "x7 = {{\"a\":1,\"b\":2}}\n",
    "\n",
    "print(x7)"
   ]
  },
  {
   "cell_type": "code",
   "execution_count": 14,
   "id": "83275e6d",
   "metadata": {},
   "outputs": [
    {
     "ename": "TypeError",
     "evalue": "unhashable type: 'set'",
     "output_type": "error",
     "traceback": [
      "\u001b[0;31m---------------------------------------------------------------------------\u001b[0m",
      "\u001b[0;31mTypeError\u001b[0m                                 Traceback (most recent call last)",
      "Cell \u001b[0;32mIn[14], line 3\u001b[0m\n\u001b[1;32m      1\u001b[0m \u001b[38;5;66;03m# nesting is not possible\u001b[39;00m\n\u001b[0;32m----> 3\u001b[0m a \u001b[38;5;241m=\u001b[39m {{\u001b[38;5;241m1\u001b[39m,\u001b[38;5;241m2\u001b[39m,\u001b[38;5;241m3\u001b[39m}},{{\u001b[38;5;241m4\u001b[39m,\u001b[38;5;241m5\u001b[39m,\u001b[38;5;241m6\u001b[39m}}\n\u001b[1;32m      5\u001b[0m \u001b[38;5;28mprint\u001b[39m(a)\n",
      "\u001b[0;31mTypeError\u001b[0m: unhashable type: 'set'"
     ]
    }
   ],
   "source": [
    "# nesting is not possible\n",
    "\n",
    "a = {{1,2,3}},{{4,5,6}}\n",
    "\n",
    "print(a)"
   ]
  },
  {
   "cell_type": "code",
   "execution_count": 15,
   "id": "0aeeb075",
   "metadata": {},
   "outputs": [
    {
     "name": "stdout",
     "output_type": "stream",
     "text": [
      "{'aplha', 'gamma', 'beta'}\n",
      "<class 'set'>\n"
     ]
    }
   ],
   "source": [
    "# the set() constructor\n",
    "\n",
    "thisset = set((\"aplha\",\"beta\",\"gamma\"))\n",
    "\n",
    "print(thisset)\n",
    "print(type(thisset))"
   ]
  },
  {
   "cell_type": "code",
   "execution_count": 16,
   "id": "020044ba",
   "metadata": {},
   "outputs": [
    {
     "name": "stdout",
     "output_type": "stream",
     "text": [
      "{}\n",
      "<class 'dict'>\n"
     ]
    }
   ],
   "source": [
    "# Creating a empty set.add\n",
    "\n",
    "a = {}\n",
    "\n",
    "print(a)\n",
    "print(type(a))"
   ]
  },
  {
   "cell_type": "code",
   "execution_count": 17,
   "id": "efac6fc8",
   "metadata": {},
   "outputs": [
    {
     "name": "stdout",
     "output_type": "stream",
     "text": [
      "<class 'set'>\n",
      "set()\n"
     ]
    }
   ],
   "source": [
    "empty = set()\n",
    "\n",
    "print(type(empty))\n",
    "print(empty)"
   ]
  },
  {
   "cell_type": "code",
   "execution_count": 18,
   "id": "bc2945f0",
   "metadata": {},
   "outputs": [
    {
     "name": "stdout",
     "output_type": "stream",
     "text": [
      "a\n",
      "b\n",
      "d\n",
      "c\n"
     ]
    }
   ],
   "source": [
    "# Access items in the sets.\n",
    "\n",
    "a = {\"a\",\"b\",\"c\",\"d\"}\n",
    "\n",
    "for x in a:\n",
    "    print(x)"
   ]
  },
  {
   "cell_type": "code",
   "execution_count": 19,
   "id": "a669b548",
   "metadata": {},
   "outputs": [
    {
     "name": "stdout",
     "output_type": "stream",
     "text": [
      "True\n"
     ]
    }
   ],
   "source": [
    "# check if \" item \" is present in the set.\n",
    "\n",
    "a = {\"data\",\"python\",\"code\"}\n",
    "\n",
    "print(\"code\" in a)"
   ]
  },
  {
   "cell_type": "code",
   "execution_count": 20,
   "id": "58aee050",
   "metadata": {},
   "outputs": [
    {
     "name": "stdout",
     "output_type": "stream",
     "text": [
      "False\n"
     ]
    }
   ],
   "source": [
    "a = {\"data\",\"python\",\"code\"}\n",
    "\n",
    "print(\"analyst\" in a)"
   ]
  },
  {
   "cell_type": "code",
   "execution_count": 21,
   "id": "6145588d",
   "metadata": {},
   "outputs": [
    {
     "name": "stdout",
     "output_type": "stream",
     "text": [
      "{100, 'c', 'a', 'b', 'd'}\n"
     ]
    }
   ],
   "source": [
    "# Add items in sets.\n",
    "\n",
    "a = {\"a\",\"b\",\"c\",\"d\"}\n",
    "\n",
    "a.add(100)\n",
    "print(a)"
   ]
  },
  {
   "cell_type": "code",
   "execution_count": 22,
   "id": "79d25b82",
   "metadata": {},
   "outputs": [
    {
     "name": "stdout",
     "output_type": "stream",
     "text": [
      "{'python', 70, 40, 10, 50, 20, 'code', 60, 'data', 30}\n"
     ]
    }
   ],
   "source": [
    "x = {\"data\",\"python\",\"code\"}\n",
    "y = (10,20,30,40,50,60,70)\n",
    "\n",
    "x.update(y)\n",
    "\n",
    "print(x)"
   ]
  },
  {
   "cell_type": "code",
   "execution_count": 23,
   "id": "f4c17790",
   "metadata": {},
   "outputs": [
    {
     "name": "stdout",
     "output_type": "stream",
     "text": [
      "{'python', 70, 10, 50, 20, 'code', 60, 'data', 30}\n"
     ]
    }
   ],
   "source": [
    "# Remove set items\n",
    "\n",
    "n = {70,40,\"code\",10,\"python\",50,20,\"data\",60,30}\n",
    "\n",
    "n.remove(40)\n",
    "print(n)"
   ]
  },
  {
   "cell_type": "code",
   "execution_count": 24,
   "id": "8f7b2e5c",
   "metadata": {},
   "outputs": [
    {
     "name": "stdout",
     "output_type": "stream",
     "text": [
      "{70, 40, 10, 50, 20, 'code', 60, 'data', 30}\n"
     ]
    }
   ],
   "source": [
    "n = {70,40,\"code\",10,\"python\",50,20,\"data\",60,30}\n",
    "\n",
    "n.remove(\"python\")\n",
    "print(n)"
   ]
  },
  {
   "cell_type": "code",
   "execution_count": 25,
   "id": "91917426",
   "metadata": {},
   "outputs": [
    {
     "name": "stdout",
     "output_type": "stream",
     "text": [
      "{70, 40, 10, 50, 20, 'code', 60, 'data', 30}\n"
     ]
    }
   ],
   "source": [
    "m = {70,40,\"code\",10,\"python\",50,20,\"data\",60,30}\n",
    "x = m.pop()\n",
    "print(m)"
   ]
  },
  {
   "cell_type": "code",
   "execution_count": 26,
   "id": "e1a426ec",
   "metadata": {},
   "outputs": [
    {
     "name": "stdout",
     "output_type": "stream",
     "text": [
      "set()\n"
     ]
    }
   ],
   "source": [
    "m = {70,40,\"code\",10,\"python\",50,20,\"data\",60,30}\n",
    "m.clear()\n",
    "print(m)"
   ]
  },
  {
   "cell_type": "code",
   "execution_count": 27,
   "id": "9350be16",
   "metadata": {},
   "outputs": [
    {
     "ename": "NameError",
     "evalue": "name 'm' is not defined",
     "output_type": "error",
     "traceback": [
      "\u001b[0;31m---------------------------------------------------------------------------\u001b[0m",
      "\u001b[0;31mNameError\u001b[0m                                 Traceback (most recent call last)",
      "Cell \u001b[0;32mIn[27], line 3\u001b[0m\n\u001b[1;32m      1\u001b[0m m \u001b[38;5;241m=\u001b[39m {\u001b[38;5;241m70\u001b[39m,\u001b[38;5;241m40\u001b[39m,\u001b[38;5;124m\"\u001b[39m\u001b[38;5;124mcode\u001b[39m\u001b[38;5;124m\"\u001b[39m,\u001b[38;5;241m10\u001b[39m,\u001b[38;5;124m\"\u001b[39m\u001b[38;5;124mpython\u001b[39m\u001b[38;5;124m\"\u001b[39m,\u001b[38;5;241m50\u001b[39m,\u001b[38;5;241m20\u001b[39m,\u001b[38;5;124m\"\u001b[39m\u001b[38;5;124mdata\u001b[39m\u001b[38;5;124m\"\u001b[39m,\u001b[38;5;241m60\u001b[39m,\u001b[38;5;241m30\u001b[39m}\n\u001b[1;32m      2\u001b[0m \u001b[38;5;28;01mdel\u001b[39;00m m\n\u001b[0;32m----> 3\u001b[0m \u001b[38;5;28mprint\u001b[39m(\u001b[43mm\u001b[49m)\n",
      "\u001b[0;31mNameError\u001b[0m: name 'm' is not defined"
     ]
    }
   ],
   "source": [
    "m = {70,40,\"code\",10,\"python\",50,20,\"data\",60,30}\n",
    "del m\n",
    "print(m)"
   ]
  },
  {
   "cell_type": "code",
   "execution_count": 28,
   "id": "38dca744",
   "metadata": {},
   "outputs": [
    {
     "name": "stdout",
     "output_type": "stream",
     "text": [
      "{1, 'b', 2, 3, 'c', 'a'}\n"
     ]
    }
   ],
   "source": [
    "# Join two sets.\n",
    "\n",
    "x = {\"a\",\"b\",\"c\"}\n",
    "y = {1,2,3}\n",
    "z = x.union(y)\n",
    "\n",
    "print(z)"
   ]
  },
  {
   "cell_type": "code",
   "execution_count": 29,
   "id": "91ebd245",
   "metadata": {},
   "outputs": [
    {
     "name": "stdout",
     "output_type": "stream",
     "text": [
      "original set elements\n",
      "{2, 3, 20, 5, 10, 15}\n",
      "Maximum value of the set is\n",
      "20\n",
      "Minimum value of the set is\n",
      "2\n"
     ]
    }
   ],
   "source": [
    "# write a python prg to find the max or min values.\n",
    "\n",
    "setn = {5,10,3,15,2,20}\n",
    "print(\"original set elements\")\n",
    "print(setn)\n",
    "print(\"Maximum value of the set is\")\n",
    "print(max(setn))\n",
    "print(\"Minimum value of the set is\")\n",
    "print(min(setn))"
   ]
  },
  {
   "cell_type": "code",
   "execution_count": 30,
   "id": "2296f125",
   "metadata": {},
   "outputs": [
    {
     "name": "stdout",
     "output_type": "stream",
     "text": [
      "{40, 50, 30}\n"
     ]
    }
   ],
   "source": [
    "# Return a new set of identical items from two sets.\n",
    "\n",
    "set1 = {10,20,30,40,50}\n",
    "set2 = {30,40,50,60,70}\n",
    "\n",
    "print(set1.intersection(set2))"
   ]
  },
  {
   "cell_type": "code",
   "execution_count": null,
   "id": "54e63c50",
   "metadata": {},
   "outputs": [],
   "source": []
  }
 ],
 "metadata": {
  "kernelspec": {
   "display_name": "Python 3",
   "language": "python",
   "name": "python3"
  },
  "language_info": {
   "codemirror_mode": {
    "name": "ipython",
    "version": 3
   },
   "file_extension": ".py",
   "mimetype": "text/x-python",
   "name": "python",
   "nbconvert_exporter": "python",
   "pygments_lexer": "ipython3",
   "version": "3.12.6"
  }
 },
 "nbformat": 4,
 "nbformat_minor": 5
}
