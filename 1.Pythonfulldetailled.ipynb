{
 "cells": [
  {
   "cell_type": "raw",
   "id": "a6f9065b-a7d6-4326-8e30-92b3a331e267",
   "metadata": {},
   "source": [
    "# Python in jupyter notebook"
   ]
  },
  {
   "cell_type": "code",
   "execution_count": null,
   "id": "54626697-5207-439a-812a-33c669242696",
   "metadata": {},
   "outputs": [],
   "source": [
    "# Comments are denoted as # sign in Jupyter notebook.\n",
    "    "
   ]
  },
  {
   "cell_type": "code",
   "execution_count": null,
   "id": "9c6637e9-7a10-4294-8578-0fb85139f542",
   "metadata": {},
   "outputs": [],
   "source": [
    "# Print() function is used in python to get output.It is a inbuilt functions.\n"
   ]
  },
  {
   "cell_type": "code",
   "execution_count": null,
   "id": "1bc46eac-9aa7-4271-bda8-25f0ae55cacc",
   "metadata": {},
   "outputs": [],
   "source": [
    "# Variable & Operator in Python.\n",
    "\n",
    "# Python variable is containers that store values.Python is not \"Statically typed\".We do not need to declare variables \n",
    "# before using them or decalare their type.A variable is created the moment we first assign a value to it .A python variable\n",
    "# is a name given to a memory location.It is the basic unit of storage in a program.\n",
    "\n",
    "# A variable can have a short name ( like x and y) or a more descriptive name ( age,carname,total_volume ). Rules for Python\n",
    "# variables:\n",
    "\n",
    "# A variable name must start with a letter or the underscore characher.\n",
    "\n",
    "# A variable name cannot start with a number.\n",
    "\n",
    "# A variable name can only contain alpha-numeric characters and underscores ( A-z,0-9, and _ )\n",
    "\n",
    "# Variable names are case-sensitive ( age, Aga and AGE are three different variables.)\n",
    "\n",
    "# A Variable name cannot be any of the Python Keywords.\n",
    "\n",
    "# Python has no command for declaring a variable.\n",
    "\n",
    "# A variable is created the moment you first assign a value to it.\n",
    "\n",
    "# Example \n",
    " \n",
    "\n"
   ]
  },
  {
   "cell_type": "code",
   "execution_count": 3,
   "id": "cff5b580-d631-4abd-b073-cd5ec5db3dc0",
   "metadata": {},
   "outputs": [
    {
     "name": "stdout",
     "output_type": "stream",
     "text": [
      "5\n",
      "John\n"
     ]
    }
   ],
   "source": [
    "x = 5\n",
    "y = \"John\"\n",
    "\n",
    "print(x)\n",
    "print(y)\n"
   ]
  },
  {
   "cell_type": "code",
   "execution_count": 5,
   "id": "1388d436-e07d-4a7f-9564-6e809bcbbb98",
   "metadata": {},
   "outputs": [
    {
     "name": "stdout",
     "output_type": "stream",
     "text": [
      "Orange\n",
      "Banana\n",
      "Cherry\n"
     ]
    }
   ],
   "source": [
    "# Python allows you to assign values to multiple variables in one line:\n",
    "# example.\n",
    "\n",
    "x,y,z = \"Orange\",\"Banana\",\"Cherry\"\n",
    "\n",
    "print(x)\n",
    "print(y)\n",
    "print(z)"
   ]
  },
  {
   "cell_type": "code",
   "execution_count": 7,
   "id": "92ea4a57-9cc7-4cba-8a1f-7a0a670efc44",
   "metadata": {},
   "outputs": [
    {
     "name": "stdout",
     "output_type": "stream",
     "text": [
      "Orange\n",
      "Orange\n",
      "Orange\n"
     ]
    }
   ],
   "source": [
    "# Or the second method is putting in one value to many.\n",
    "\n",
    "x = y = z = \"Orange\"\n",
    "\n",
    "print(x)\n",
    "print(y)\n",
    "print(z)\n",
    "\n"
   ]
  },
  {
   "cell_type": "code",
   "execution_count": 9,
   "id": "f2b39156-c375-4a39-866a-41e7d44bc8a4",
   "metadata": {},
   "outputs": [
    {
     "name": "stdout",
     "output_type": "stream",
     "text": [
      "1\n"
     ]
    }
   ],
   "source": [
    "a = 1\n",
    "\n",
    "print(a)"
   ]
  },
  {
   "cell_type": "code",
   "execution_count": 11,
   "id": "a9ad0405-1e22-4ed0-83ac-c865e3a7cac3",
   "metadata": {},
   "outputs": [
    {
     "name": "stdout",
     "output_type": "stream",
     "text": [
      "2 2.3\n"
     ]
    }
   ],
   "source": [
    "b = 2\n",
    "c = 2.3\n",
    "\n",
    "print(b,c)"
   ]
  },
  {
   "cell_type": "code",
   "execution_count": 15,
   "id": "0f529fca-2547-41c3-94e6-8ff6e99e4f93",
   "metadata": {},
   "outputs": [
    {
     "name": "stdout",
     "output_type": "stream",
     "text": [
      "apple\n"
     ]
    }
   ],
   "source": [
    "x = \"apple\"\n",
    "\n",
    "print(x)"
   ]
  },
  {
   "cell_type": "code",
   "execution_count": 17,
   "id": "043783f9-af42-4f3b-adab-8f30e0df9275",
   "metadata": {},
   "outputs": [
    {
     "name": "stdout",
     "output_type": "stream",
     "text": [
      "23\n"
     ]
    }
   ],
   "source": [
    "student = 23\n",
    "\n",
    "print(student)"
   ]
  },
  {
   "cell_type": "code",
   "execution_count": 19,
   "id": "3269fdb2-45ee-4ace-8c0f-880e3d26c689",
   "metadata": {},
   "outputs": [
    {
     "ename": "SyntaxError",
     "evalue": "invalid syntax (2944837413.py, line 1)",
     "output_type": "error",
     "traceback": [
      "\u001b[0;36m  Cell \u001b[0;32mIn[19], line 1\u001b[0;36m\u001b[0m\n\u001b[0;31m    1@# = 2\u001b[0m\n\u001b[0m      ^\u001b[0m\n\u001b[0;31mSyntaxError\u001b[0m\u001b[0;31m:\u001b[0m invalid syntax\n"
     ]
    }
   ],
   "source": [
    "1@# = 2\n",
    "\n",
    "print(1@#) # we cannot use symbols in variable."
   ]
  },
  {
   "cell_type": "code",
   "execution_count": 21,
   "id": "b982dede-e23a-40ca-8021-f4e2e529b412",
   "metadata": {},
   "outputs": [
    {
     "name": "stdout",
     "output_type": "stream",
     "text": [
      "25\n"
     ]
    }
   ],
   "source": [
    "student123 = 25\n",
    "\n",
    "print(student123)"
   ]
  },
  {
   "cell_type": "code",
   "execution_count": 23,
   "id": "c04f0259-7684-4c79-a54c-be4810a8ddfe",
   "metadata": {},
   "outputs": [
    {
     "ename": "NameError",
     "evalue": "name '_A' is not defined",
     "output_type": "error",
     "traceback": [
      "\u001b[0;31m---------------------------------------------------------------------------\u001b[0m",
      "\u001b[0;31mNameError\u001b[0m                                 Traceback (most recent call last)",
      "Cell \u001b[0;32mIn[23], line 3\u001b[0m\n\u001b[1;32m      1\u001b[0m _a \u001b[38;5;241m=\u001b[39m \u001b[38;5;241m5\u001b[39m\n\u001b[0;32m----> 3\u001b[0m \u001b[38;5;28mprint\u001b[39m(_A)\n",
      "\u001b[0;31mNameError\u001b[0m: name '_A' is not defined"
     ]
    }
   ],
   "source": [
    "_a = 5\n",
    "\n",
    "print(_A) # variables are case sensitive in python."
   ]
  },
  {
   "cell_type": "code",
   "execution_count": 25,
   "id": "a44de68f-ac87-4ca0-bdb3-b5f395477343",
   "metadata": {},
   "outputs": [
    {
     "name": "stdout",
     "output_type": "stream",
     "text": [
      "5\n"
     ]
    }
   ],
   "source": [
    "_a = 5\n",
    "\n",
    "print(_a) # _ can be used a variable in python."
   ]
  },
  {
   "cell_type": "code",
   "execution_count": 29,
   "id": "2f8ebb1f-4148-4735-b535-ff509ee8bd6e",
   "metadata": {},
   "outputs": [
    {
     "name": "stdout",
     "output_type": "stream",
     "text": [
      "Orange Banana Cherry\n"
     ]
    }
   ],
   "source": [
    "# many values to multiple variable\n",
    "\n",
    "x,y,z = \"Orange\",\"Banana\",\"Cherry\"\n",
    "\n",
    "print(x,y,z)"
   ]
  },
  {
   "cell_type": "code",
   "execution_count": 31,
   "id": "7125c2b7-4948-4eef-8cf2-8ba6a7ce1b6a",
   "metadata": {},
   "outputs": [
    {
     "name": "stdout",
     "output_type": "stream",
     "text": [
      "Python is amazing\n",
      "\n",
      "Python\n",
      "is\n",
      "amazing\n"
     ]
    }
   ],
   "source": [
    "# Python output variables.\n",
    "\n",
    "# Python print() function is used as a output.\n",
    "\n",
    "x = \"Python\"\n",
    "y = \"is\"\n",
    "z = \"amazing\"\n",
    "\n",
    "print(x,y,z)\n",
    "\n",
    "print()\n",
    "\n",
    "print(x)\n",
    "print(y)\n",
    "print(z)"
   ]
  },
  {
   "cell_type": "code",
   "execution_count": null,
   "id": "6aa5720f-4153-4468-ac15-5515424346d9",
   "metadata": {},
   "outputs": [],
   "source": [
    "# Variables can store data of different types, and different types can do different different types.\n",
    "# Pyhton has the following data types built-in by default,in these categories.\n",
    "\n",
    "# Test Types    : str\n",
    "# Numberic type : int, float, complex\n",
    "# Sequence type : list, tuple range\n",
    "# Mapping type  : dictionary\n",
    "# Boolean Type  : bool\n",
    "# Binary Types  : bytes, bytearray, memoryview\n",
    "\n",
    "# Python - data types\n",
    "\n",
    "# Numeric\n",
    "        # integers , complex , float\n",
    "\n",
    "# Dictionary\n",
    "\n",
    "# Boolean\n",
    "\n",
    "# Set\n",
    "\n",
    "# Sequence Type\n",
    "        # strings , list , tuple.\n"
   ]
  },
  {
   "cell_type": "code",
   "execution_count": 33,
   "id": "4c9b120e-ce17-4862-ae41-489da3a21a4d",
   "metadata": {},
   "outputs": [
    {
     "name": "stdout",
     "output_type": "stream",
     "text": [
      "2\n",
      "<class 'int'>\n"
     ]
    }
   ],
   "source": [
    "# Data types\n",
    "\n",
    "x = 2\n",
    "\n",
    "print(x)\n",
    "print(type(x)) # type() function gives the description of the \n",
    "             # integers data types it belongs.."
   ]
  },
  {
   "cell_type": "code",
   "execution_count": 35,
   "id": "3711726b-9bfb-43f6-90a3-7265388c14a8",
   "metadata": {},
   "outputs": [
    {
     "name": "stdout",
     "output_type": "stream",
     "text": [
      "4.5\n",
      "<class 'float'>\n"
     ]
    }
   ],
   "source": [
    "y = 4.5\n",
    "\n",
    "print(y)\n",
    "print(type(y))"
   ]
  },
  {
   "cell_type": "code",
   "execution_count": 37,
   "id": "b995a684-77d5-4823-852b-5516d8a138dc",
   "metadata": {},
   "outputs": [
    {
     "name": "stdout",
     "output_type": "stream",
     "text": [
      "(2+5j)\n",
      "<class 'complex'>\n"
     ]
    }
   ],
   "source": [
    "z = 2 + 5j\n",
    "\n",
    "print(z)\n",
    "print(type(z))"
   ]
  },
  {
   "cell_type": "code",
   "execution_count": 43,
   "id": "12bde60c-eedd-4c20-b479-80ec62f908fa",
   "metadata": {},
   "outputs": [
    {
     "name": "stdout",
     "output_type": "stream",
     "text": [
      "7\n",
      "<class 'int'>\n"
     ]
    }
   ],
   "source": [
    "a = 2 + 5\n",
    "\n",
    "print(a)\n",
    "print(type(a))"
   ]
  },
  {
   "cell_type": "code",
   "execution_count": 45,
   "id": "9d2c9918-7791-482e-820b-2a134d774da0",
   "metadata": {},
   "outputs": [
    {
     "name": "stdout",
     "output_type": "stream",
     "text": [
      "This is my first pyhton program \n",
      "<class 'str'>\n"
     ]
    }
   ],
   "source": [
    "a = \"This is my first pyhton program \"\n",
    "\n",
    "print(a)\n",
    "print(type(a))"
   ]
  },
  {
   "cell_type": "code",
   "execution_count": 47,
   "id": "b08a04d5-c8a5-46bf-a974-654a4f0c997c",
   "metadata": {},
   "outputs": [
    {
     "name": "stdout",
     "output_type": "stream",
     "text": [
      "[1, 2, 3, 4, 5, 6, 7, 8, 9, 10]\n",
      "<class 'list'>\n"
     ]
    }
   ],
   "source": [
    "b = [ 1,2,3,4,5,6,7,8,9,10]\n",
    "\n",
    "print(b)\n",
    "print(type(b)) # list denotes in square brackets."
   ]
  },
  {
   "cell_type": "code",
   "execution_count": 49,
   "id": "0edfa639-8a65-4f1c-8bac-947bd1cd4245",
   "metadata": {},
   "outputs": [
    {
     "name": "stdout",
     "output_type": "stream",
     "text": [
      "(1, 2, 3, 4, 5, 6, 7, 8, 9, 10)\n",
      "<class 'tuple'>\n"
     ]
    }
   ],
   "source": [
    "c = (1,2,3,4,5,6,7,8,9,10)\n",
    "\n",
    "print(c)\n",
    "print(type(c)) # tuples denotes by curely brackets."
   ]
  },
  {
   "cell_type": "code",
   "execution_count": 51,
   "id": "6cc50bd2-1034-44bc-a4e5-9efbd880aa20",
   "metadata": {},
   "outputs": [
    {
     "name": "stdout",
     "output_type": "stream",
     "text": [
      "Variable               Type        Data/Info\n",
      "--------------------------------------------\n",
      "a                      str         This is my first pyhton program \n",
      "b                      list        n=10\n",
      "c                      tuple       n=10\n",
      "dataframe_columns      function    <function dataframe_columns at 0x12c82fb00>\n",
      "dataframe_hash         function    <function dataframe_hash at 0x12c82f6a0>\n",
      "dtypes_str             function    <function dtypes_str at 0x12c82fe20>\n",
      "get_dataframes         function    <function get_dataframes at 0x12c82c900>\n",
      "getpass                module      <module 'getpass' from '/<...>b/python3.12/getpass.py'>\n",
      "hashlib                module      <module 'hashlib' from '/<...>b/python3.12/hashlib.py'>\n",
      "import_pandas_safely   function    <function import_pandas_safely at 0x12c82fd80>\n",
      "is_data_frame          function    <function is_data_frame at 0x12c82e3e0>\n",
      "json                   module      <module 'json' from '/opt<...>on3.12/json/__init__.py'>\n",
      "student                int         23\n",
      "student123             int         25\n",
      "x                      int         2\n",
      "y                      float       4.5\n",
      "z                      complex     (2+5j)\n"
     ]
    }
   ],
   "source": [
    "%whos # used to see the detailed view so far."
   ]
  },
  {
   "cell_type": "code",
   "execution_count": null,
   "id": "3fe831e1-5ed0-4131-9366-a37a8d970bf4",
   "metadata": {},
   "outputs": [],
   "source": [
    "# Operators in python.\n",
    "\n",
    "# In python programming, operators in general are used to perform operations on values and variables.\n",
    "# These are standard symbols used for the purpose of logical and arithmetric operations. in this article, \n",
    "# we will look into different types of python operators.\n",
    "\n",
    "# Operators : These are the special symbols. eg + , * , / etc.\n",
    "\n",
    "# Operand : it is the value on which the operator is applied.\n",
    "\n",
    "# Types of Operators.\n",
    "\n",
    "    # Arithmetic Operators\n",
    "\n",
    "    # Comparison Operators\n",
    "\n",
    "    # Logical Operators\n",
    "\n",
    "    # Bitwise Operators\n",
    "\n",
    "    # Assignment Operators\n",
    "\n",
    "    # Identify Operator and membership Operators.\n",
    "\n",
    "\n",
    "\n"
   ]
  },
  {
   "cell_type": "code",
   "execution_count": 53,
   "id": "652b6153-7289-4c69-8715-310c0b5f7865",
   "metadata": {},
   "outputs": [
    {
     "name": "stdout",
     "output_type": "stream",
     "text": [
      "8\n"
     ]
    }
   ],
   "source": [
    "a = 5\n",
    "b = 3\n",
    "\n",
    "print(a+b)"
   ]
  },
  {
   "cell_type": "code",
   "execution_count": 55,
   "id": "190de280-9a53-409f-a0be-708ce9bc0ecc",
   "metadata": {},
   "outputs": [
    {
     "name": "stdout",
     "output_type": "stream",
     "text": [
      "7.3\n"
     ]
    }
   ],
   "source": [
    "a = 5\n",
    "b = 2.3\n",
    "\n",
    "print(a+b)"
   ]
  },
  {
   "cell_type": "code",
   "execution_count": 57,
   "id": "128c9710-b8a5-4410-aed9-c1edab1bf0ae",
   "metadata": {},
   "outputs": [
    {
     "name": "stdout",
     "output_type": "stream",
     "text": [
      "(9+2j)\n"
     ]
    }
   ],
   "source": [
    "a = 5 + 2j\n",
    "b = 4\n",
    "\n",
    "print(a+b)"
   ]
  },
  {
   "cell_type": "code",
   "execution_count": 3,
   "id": "d4f87f37-2c87-4daa-be1e-d4fa238a3a94",
   "metadata": {},
   "outputs": [
    {
     "name": "stdout",
     "output_type": "stream",
     "text": [
      "hello students\n"
     ]
    }
   ],
   "source": [
    "a = \"hello\"\n",
    "b = \"students\"\n",
    "\n",
    "print( a + \" \" + b)"
   ]
  },
  {
   "cell_type": "code",
   "execution_count": 5,
   "id": "d7ad234c-b75b-498c-a03f-6827dade5518",
   "metadata": {},
   "outputs": [
    {
     "name": "stdout",
     "output_type": "stream",
     "text": [
      "9\n"
     ]
    }
   ],
   "source": [
    "# Subtraction\n",
    "\n",
    "a = 15\n",
    "b = 6\n",
    "\n",
    "print( a - b)"
   ]
  },
  {
   "cell_type": "code",
   "execution_count": 7,
   "id": "a324bfab-ada3-4b7e-975b-d041b12f681b",
   "metadata": {},
   "outputs": [
    {
     "name": "stdout",
     "output_type": "stream",
     "text": [
      "-1.3620963000000001\n"
     ]
    }
   ],
   "source": [
    "a = 5.8965\n",
    "b = 7.2585963\n",
    "\n",
    "print( a - b)\n",
    "print(type(a-b))"
   ]
  },
  {
   "cell_type": "code",
   "execution_count": 9,
   "id": "2b23723d-15ec-484b-af2f-db45c0e39d7c",
   "metadata": {},
   "outputs": [
    {
     "name": "stdout",
     "output_type": "stream",
     "text": [
      "(2+6j)\n"
     ]
    }
   ],
   "source": [
    "a = 5 + 6j\n",
    "b = 3\n",
    "\n",
    "print( a - b)"
   ]
  },
  {
   "cell_type": "code",
   "execution_count": 11,
   "id": "655e23a1-91e1-4ab2-a127-7f5542a31762",
   "metadata": {},
   "outputs": [
    {
     "ename": "TypeError",
     "evalue": "unsupported operand type(s) for -: 'str' and 'str'",
     "output_type": "error",
     "traceback": [
      "\u001b[0;31m---------------------------------------------------------------------------\u001b[0m",
      "\u001b[0;31mTypeError\u001b[0m                                 Traceback (most recent call last)",
      "Cell \u001b[0;32mIn[11], line 4\u001b[0m\n\u001b[1;32m      1\u001b[0m a \u001b[38;5;241m=\u001b[39m \u001b[38;5;124m\"\u001b[39m\u001b[38;5;124mHello\u001b[39m\u001b[38;5;124m\"\u001b[39m\n\u001b[1;32m      2\u001b[0m b \u001b[38;5;241m=\u001b[39m \u001b[38;5;124m\"\u001b[39m\u001b[38;5;124mstudent\u001b[39m\u001b[38;5;124m\"\u001b[39m\n\u001b[0;32m----> 4\u001b[0m \u001b[38;5;28mprint\u001b[39m(a \u001b[38;5;241m-\u001b[39mb)\n",
      "\u001b[0;31mTypeError\u001b[0m: unsupported operand type(s) for -: 'str' and 'str'"
     ]
    }
   ],
   "source": [
    "a = \"Hello\"\n",
    "b = \"student\"\n",
    "\n",
    "print(a -b)"
   ]
  },
  {
   "cell_type": "code",
   "execution_count": 13,
   "id": "9bcbd107-4588-4eed-bd94-50859d81370d",
   "metadata": {},
   "outputs": [
    {
     "name": "stdout",
     "output_type": "stream",
     "text": [
      "840\n"
     ]
    }
   ],
   "source": [
    "# Multiplication\n",
    "\n",
    "a = 15\n",
    "b = 56\n",
    "\n",
    "print( a*b)"
   ]
  },
  {
   "cell_type": "code",
   "execution_count": 15,
   "id": "7f44e8da-125c-479d-b7af-2831545d3218",
   "metadata": {},
   "outputs": [
    {
     "name": "stdout",
     "output_type": "stream",
     "text": [
      "469.66290448\n"
     ]
    }
   ],
   "source": [
    "a = 5.689\n",
    "b = 82.55632\n",
    "\n",
    "print(a*b)"
   ]
  },
  {
   "cell_type": "code",
   "execution_count": 17,
   "id": "adea3d0e-5239-4b50-a107-f78e271c6f18",
   "metadata": {},
   "outputs": [
    {
     "name": "stdout",
     "output_type": "stream",
     "text": [
      "2.0\n"
     ]
    }
   ],
   "source": [
    "# Division\n",
    "\n",
    "a = 10\n",
    "b = 5\n",
    "\n",
    "print( a/b)\n",
    "\n",
    "\n"
   ]
  },
  {
   "cell_type": "code",
   "execution_count": 19,
   "id": "f78ce280-abbb-49cd-ad8a-86373349ed38",
   "metadata": {},
   "outputs": [
    {
     "name": "stdout",
     "output_type": "stream",
     "text": [
      "1\n"
     ]
    }
   ],
   "source": [
    "# Modulous\n",
    "\n",
    "a = 19\n",
    "b = 3\n",
    "\n",
    "print( a%b) # here a modulous b the reminder is 1.\n"
   ]
  },
  {
   "cell_type": "code",
   "execution_count": 21,
   "id": "b8b2ad3a-e477-4a7c-9fa9-999f6ffd7d34",
   "metadata": {},
   "outputs": [
    {
     "name": "stdout",
     "output_type": "stream",
     "text": [
      "0\n"
     ]
    }
   ],
   "source": [
    "a = 12\n",
    "b = 4\n",
    "\n",
    "print( a%b)"
   ]
  },
  {
   "cell_type": "code",
   "execution_count": 24,
   "id": "f95fedb5-00b5-47a3-99f5-ec2aa9b5f31b",
   "metadata": {},
   "outputs": [
    {
     "name": "stdout",
     "output_type": "stream",
     "text": [
      "71162028433520217717099884851404495326786614148274137562533191244754226421072922193229393035406290047490322006127486170528820460414671897074184746917638236810663780872933871199771053029074871072046645088603300420278272474373361352870797685329285463690039885441075398107839063255747535400015566353549647882767414182717586010912021318113386679928289227315380064286145450539958069165193638416244911434618495833200180049949\n"
     ]
    }
   ],
   "source": [
    "# exponent\n",
    "\n",
    "a = 41256789\n",
    "\n",
    "print(a**55)"
   ]
  },
  {
   "cell_type": "code",
   "execution_count": 28,
   "id": "3f15f6e3-c2d6-4be1-9200-dfb3c4800921",
   "metadata": {},
   "outputs": [
    {
     "name": "stdout",
     "output_type": "stream",
     "text": [
      "2.990489165920469e+196\n"
     ]
    }
   ],
   "source": [
    "a = ((859*78)+(78.256/89)+(856**67)+(145698-7526))\n",
    "\n",
    "print(a)"
   ]
  },
  {
   "cell_type": "code",
   "execution_count": 32,
   "id": "66067395-c31f-40cd-8714-65dbf7fd9c9b",
   "metadata": {},
   "outputs": [
    {
     "name": "stdout",
     "output_type": "stream",
     "text": [
      "False\n"
     ]
    }
   ],
   "source": [
    "# Logical Operators.\n",
    "\n",
    "a = True\n",
    "b = False\n",
    "\n",
    "print(a and b)\n"
   ]
  },
  {
   "cell_type": "code",
   "execution_count": 34,
   "id": "302eab66-d12c-4f70-a9d3-91b0eaca9e18",
   "metadata": {},
   "outputs": [
    {
     "name": "stdout",
     "output_type": "stream",
     "text": [
      "True\n"
     ]
    }
   ],
   "source": [
    "a = True\n",
    "b = False\n",
    "\n",
    "print( a or b)"
   ]
  },
  {
   "cell_type": "code",
   "execution_count": 36,
   "id": "df6ed279-fa49-45e2-ba29-e72dbca023fb",
   "metadata": {},
   "outputs": [
    {
     "name": "stdout",
     "output_type": "stream",
     "text": [
      "True\n"
     ]
    }
   ],
   "source": [
    "a = True\n",
    "b = True\n",
    "\n",
    "print( a or b )"
   ]
  },
  {
   "cell_type": "code",
   "execution_count": 38,
   "id": "d23ab276-4fa9-49c8-b93b-4cfdd040e2db",
   "metadata": {},
   "outputs": [
    {
     "name": "stdout",
     "output_type": "stream",
     "text": [
      "False\n"
     ]
    }
   ],
   "source": [
    "a = False\n",
    "b = False\n",
    "\n",
    "print( a or b)\n"
   ]
  },
  {
   "cell_type": "code",
   "execution_count": 40,
   "id": "c4553f3e-03ae-4871-b8c0-eea4ef77ae90",
   "metadata": {},
   "outputs": [
    {
     "name": "stdout",
     "output_type": "stream",
     "text": [
      "True\n"
     ]
    }
   ],
   "source": [
    "# False or False = False\n",
    "# False or True = True\n",
    "# True or False = True\n",
    "# True or True = True\n",
    "\n",
    "a = False\n",
    "b = True\n",
    "\n",
    "print(a or b)"
   ]
  },
  {
   "cell_type": "code",
   "execution_count": 42,
   "id": "2fb9275b-e717-41bc-a059-68504d8180ac",
   "metadata": {},
   "outputs": [
    {
     "name": "stdout",
     "output_type": "stream",
     "text": [
      "True\n"
     ]
    }
   ],
   "source": [
    "a = False\n",
    "b = False\n",
    "\n",
    "print( not(a))"
   ]
  },
  {
   "cell_type": "code",
   "execution_count": 44,
   "id": "efaf145a-ea54-4903-aa50-bad6e637a7e2",
   "metadata": {},
   "outputs": [
    {
     "name": "stdout",
     "output_type": "stream",
     "text": [
      "False\n"
     ]
    }
   ],
   "source": [
    "a = True\n",
    "b = False\n",
    "\n",
    "print( not(a))"
   ]
  }
 ],
 "metadata": {
  "kernelspec": {
   "display_name": "Python 3 (ipykernel)",
   "language": "python",
   "name": "python3"
  },
  "language_info": {
   "codemirror_mode": {
    "name": "ipython",
    "version": 3
   },
   "file_extension": ".py",
   "mimetype": "text/x-python",
   "name": "python",
   "nbconvert_exporter": "python",
   "pygments_lexer": "ipython3",
   "version": "3.12.4"
  }
 },
 "nbformat": 4,
 "nbformat_minor": 5
}
