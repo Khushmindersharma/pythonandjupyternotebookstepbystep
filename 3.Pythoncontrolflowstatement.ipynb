{
 "cells": [
  {
   "cell_type": "code",
   "execution_count": null,
   "id": "9ce5888e-10fc-4d7e-83f6-e2bd8d6aa84c",
   "metadata": {},
   "outputs": [],
   "source": [
    "# What is a control flow statemnets in Python\n",
    "\n",
    "# There are two words, the first is flow and the second is control.\n",
    "# From a technical perspective, we can say that flow is nothing but many\n",
    "# statements consisting of multiple operations which need to be executed.\n",
    "# For example, adding 10 numbers and finding the mean of the number.\n",
    "\n",
    "# We dont have any control over the statement yet.By control, I mean the decision power. \n",
    "# To relate this with real life, one can imagine that in their day-to-day life, they make \n",
    "# decisions whether to do this or that,choose this or that etc.\n",
    "\n",
    "# Similarly, in the coding world also , we make decisions and according to the situation, \n",
    "# we follow required statements and skip irrelevant ones.\n",
    "\n",
    "# Special rules:-\n",
    "\n",
    "# No marks deduction if arrived at the examination hall on time.\n",
    "# if 10 mins late,then 10 marks will be deducted.\n",
    "# if 30 mins late, then 30 marks will be deducted.\n",
    "# zero marks if later that 30 mins.\n",
    "\n",
    "# 0 < late <=10 Total marks = y - 10\n",
    "# 10 < late <=30 total marks = z -30\n",
    "# late > 30 total marks = zero.\n",
    "\n",
    "# flow control\n",
    "# conditional statements, transfer statements, Iterative statements\n",
    "\n",
    "# conditional statements\n",
    "\n",
    "# if\n",
    "# if-else\n",
    "# if elif-else\n",
    "# nested if else.\n",
    "\n",
    "# transfer statements\n",
    "\n",
    "# break\n",
    "# continue\n",
    "# pass\n",
    "\n",
    "# iterative statements\n",
    "\n",
    "# for\n",
    "# while\n",
    "\n",
    "\n"
   ]
  },
  {
   "cell_type": "code",
   "execution_count": null,
   "id": "4f014be0-cc0a-448c-be98-150688bca080",
   "metadata": {},
   "outputs": [],
   "source": [
    "# The IF statement is the most simple decision-making statement.It is used to decide whether a certain \n",
    "# statement or block of statements will be executed or not.\n",
    "\n",
    "#Syntax\n",
    "\n",
    "# if condition:\n",
    "#     statement1\n",
    "#     statement2\n",
    "\n"
   ]
  },
  {
   "cell_type": "code",
   "execution_count": 3,
   "id": "f3d9f3d5-96aa-494d-a7b1-3347e0f4b61b",
   "metadata": {},
   "outputs": [
    {
     "name": "stdout",
     "output_type": "stream",
     "text": [
      "Enter the name of a student Raj\n",
      "Enter the marks scored in English 85\n",
      "Enter the marks scored in Hindi 65\n",
      "Enter the marks scored in Maths 90\n",
      "Enter the marks scored in Science 86\n",
      "Enter the marks scored in Social Studies 73\n"
     ]
    },
    {
     "name": "stdout",
     "output_type": "stream",
     "text": [
      "The percent scored by student Name  Raj is 79.80000000000001\n"
     ]
    }
   ],
   "source": [
    "# write a program to calculate the % of a student in the subjects maths,science,social eng and hindi\n",
    "# input details\n",
    "\n",
    "x = input(\"Enter the name of a student\")\n",
    "a = int(input(\"Enter the marks scored in English\"))\n",
    "b = int(input(\"Enter the marks scored in Hindi\"))\n",
    "c = int(input(\"Enter the marks scored in Maths\"))\n",
    "d = int(input(\"Enter the marks scored in Science\"))\n",
    "e = int(input(\"Enter the marks scored in Social Studies\"))\n",
    "\n",
    "# calculation used\n",
    "\n",
    "n = ((a+b+c+d+e)/500)*100\n",
    "\n",
    "# print the details on screen\n",
    "\n",
    "print(\"The percent scored by student Name \", x ,\"is\" , n)"
   ]
  },
  {
   "cell_type": "code",
   "execution_count": 19,
   "id": "2eaa5b16-4589-4e51-8347-987ca3fa4581",
   "metadata": {},
   "outputs": [
    {
     "name": "stdout",
     "output_type": "stream",
     "text": [
      "Enter the percentage scored by a student 66\n"
     ]
    },
    {
     "name": "stdout",
     "output_type": "stream",
     "text": [
      "C grade\n"
     ]
    }
   ],
   "source": [
    "# if percentage is above 90 - assign A grade\n",
    "# if percentage is above 75 - assign B grade\n",
    "# if percentage is above 65 - assign c grade\n",
    "\n",
    "a = int(input(\"Enter the percentage scored by a student\"))\n",
    "\n",
    "if a>=90:\n",
    "    print(\"A grade\")\n",
    "if a>=75 and a<90:\n",
    "    print(\"B grade\") # this is called indentation\n",
    "if a>=65 and a<75:\n",
    "    print(\"C grade\")\n",
    "    \n"
   ]
  },
  {
   "cell_type": "markdown",
   "id": "40896236",
   "metadata": {},
   "source": []
  },
  {
   "cell_type": "code",
   "execution_count": 25,
   "id": "3fa63ebc-4cb8-4579-9f87-bd5e36e39f33",
   "metadata": {},
   "outputs": [
    {
     "name": "stdout",
     "output_type": "stream",
     "text": [
      "Enter the number 30\n"
     ]
    },
    {
     "name": "stdout",
     "output_type": "stream",
     "text": [
      "Hello\n"
     ]
    }
   ],
   "source": [
    "# if - else statement\n",
    "\n",
    "# write a program to display hello if number entered by a user is a multiple of 5 else print bye.\n",
    "\n",
    "a = int(input(\"Enter the number\"))\n",
    "if a%5==0:\n",
    "    print(\"Hello\")\n",
    "else:\n",
    "    print(\"bye\")"
   ]
  },
  {
   "cell_type": "code",
   "execution_count": 29,
   "id": "7ba579d4-a2c1-49d3-a465-1f5ef85b7be3",
   "metadata": {},
   "outputs": [
    {
     "name": "stdout",
     "output_type": "stream",
     "text": [
      "Enter the number -9\n"
     ]
    },
    {
     "name": "stdout",
     "output_type": "stream",
     "text": [
      "Negative Number\n"
     ]
    }
   ],
   "source": [
    "a = int(input(\"Enter the number\"))\n",
    "\n",
    "if a>0:\n",
    "    print(\"Positive Number\")\n",
    "else:\n",
    "    print(\"Negative Number\")"
   ]
  },
  {
   "cell_type": "code",
   "execution_count": null,
   "id": "352992fd-6679-41a1-a0f6-726ed2b2070f",
   "metadata": {},
   "outputs": [],
   "source": [
    "# if - elif - else\n",
    "\n",
    "# accept the city and print its monuments\n",
    "\n",
    "# delhi - red fort\n",
    "# agra - taj mahal\n",
    "# jaipur - jalmahal\n",
    "# odissa - konak temple\n",
    "# hyderabad = charminar \n",
    "# other - record not found.\n",
    "\n"
   ]
  },
  {
   "cell_type": "code",
   "execution_count": 1,
   "id": "3d69dbd2-a5cc-4d56-b82f-9ec38dce3e9f",
   "metadata": {},
   "outputs": [
    {
     "name": "stdout",
     "output_type": "stream",
     "text": [
      "The monument in Delhi is Redfort\n"
     ]
    }
   ],
   "source": [
    "city = input(\"Enter the city\")\n",
    "if city == \"Delhi\":\n",
    "    print(\"The monument in Delhi is Redfort\")\n",
    "elif city == \"Agra\":\n",
    "    print(\"The monument in Agra is TajMahal\")\n",
    "elif city == \"Jaipur\":\n",
    "    print(\"The monument in Jaipur is Jalmahal\")\n",
    "elif city == \"Odissa\":\n",
    "    print(\"The monument in Odissa is Konak Temple\")\n",
    "elif city == \"Hyderabad\":\n",
    "    print(\"The monument in Hyderabad is Charminar\")\n",
    "else:\n",
    "    print(\"No record found\")"
   ]
  },
  {
   "cell_type": "code",
   "execution_count": null,
   "id": "6a7022ef-6391-4b06-801d-ff7204b10769",
   "metadata": {},
   "outputs": [],
   "source": []
  }
 ],
 "metadata": {
  "kernelspec": {
   "display_name": "Python 3",
   "language": "python",
   "name": "python3"
  },
  "language_info": {
   "codemirror_mode": {
    "name": "ipython",
    "version": 3
   },
   "file_extension": ".py",
   "mimetype": "text/x-python",
   "name": "python",
   "nbconvert_exporter": "python",
   "pygments_lexer": "ipython3",
   "version": "3.12.6"
  }
 },
 "nbformat": 4,
 "nbformat_minor": 5
}
