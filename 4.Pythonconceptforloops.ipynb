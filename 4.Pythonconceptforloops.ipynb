{
 "cells": [
  {
   "cell_type": "code",
   "execution_count": null,
   "id": "1e7055b5-ec0a-46e0-9bb7-9a627948ca23",
   "metadata": {},
   "outputs": [],
   "source": [
    "# In Python for loops concepts.\n"
   ]
  },
  {
   "cell_type": "code",
   "execution_count": null,
   "id": "81c769d6-521e-45ec-9d0e-387ebeac815c",
   "metadata": {},
   "outputs": [],
   "source": [
    "# In computer programming ,loops are used to repeat a block of code.\n",
    "# for example,if we want to show a message 100 times,then we can use a loop.A loop statement allows us to execute a \n",
    "# statement or group of statements multiple times."
   ]
  },
  {
   "cell_type": "code",
   "execution_count": null,
   "id": "bfe3d9dd-151d-43a3-bc59-06c40b9cb01d",
   "metadata": {},
   "outputs": [],
   "source": [
    "# WHILE LOOPS\n",
    "# A while loop is used to execute a block of statements repeatedly until a given condition is satisfied. \n",
    "# And when the condition becomes false, the line immediately after the loop in the program is executed."
   ]
  },
  {
   "cell_type": "code",
   "execution_count": 1,
   "id": "a3c88427-934a-4c76-b6bc-dd4edcec6d2f",
   "metadata": {},
   "outputs": [
    {
     "name": "stdout",
     "output_type": "stream",
     "text": [
      "1\n",
      "2\n",
      "3\n",
      "4\n",
      "5\n"
     ]
    }
   ],
   "source": [
    "# program to display numbers from 1 to 5.\n",
    "\n",
    "i = 1\n",
    "n = 5\n",
    "while i<=n:\n",
    "    print(i)\n",
    "    i = i + 1"
   ]
  },
  {
   "cell_type": "code",
   "execution_count": 15,
   "id": "fa77e14a-d941-4429-aeb8-6839ad4ad96b",
   "metadata": {},
   "outputs": [
    {
     "name": "stdin",
     "output_type": "stream",
     "text": [
      "Enter the value 25\n"
     ]
    },
    {
     "name": "stdout",
     "output_type": "stream",
     "text": [
      "25 * 1 = 25\n",
      "25 * 2 = 50\n",
      "25 * 3 = 75\n",
      "25 * 4 = 100\n",
      "25 * 5 = 125\n",
      "25 * 6 = 150\n",
      "25 * 7 = 175\n",
      "25 * 8 = 200\n",
      "25 * 9 = 225\n",
      "25 * 10 = 250\n",
      "This is the multiplicaton table of  25\n"
     ]
    }
   ],
   "source": [
    "# Enter the value from a user and make a multiplication table timm 10.\n",
    "\n",
    "x = int(input(\"Enter the value\"))\n",
    "i = 1\n",
    "while i<=10:\n",
    "    print(x, \"*\", i, \"=\" ,x*i)\n",
    "    i = i + 1\n",
    "print(\"This is the multiplicaton table of \", x)\n",
    "    "
   ]
  },
  {
   "cell_type": "code",
   "execution_count": 1,
   "id": "315321b0-b67a-4efb-8828-c57f4e265452",
   "metadata": {},
   "outputs": [
    {
     "name": "stdout",
     "output_type": "stream",
     "text": [
      "Hello Students\n",
      "Hello Students\n",
      "Hello Students\n",
      "Hello Students\n",
      "Hello Students\n",
      "Hello Students\n",
      "Hello Students\n",
      "Hello Students\n",
      "Hello Students\n",
      "Hello Students\n",
      "Hello Students\n",
      "Hello Students\n",
      "Hello Students\n",
      "Hello Students\n",
      "Hello Students\n"
     ]
    }
   ],
   "source": [
    "count = 0\n",
    "while(count<15):\n",
    "    count = count + 1\n",
    "    print(\"Hello Students\")"
   ]
  },
  {
   "cell_type": "code",
   "execution_count": 3,
   "id": "b98cbee9-7f69-4fba-be35-aa680803c3fa",
   "metadata": {},
   "outputs": [
    {
     "name": "stdout",
     "output_type": "stream",
     "text": [
      "Hello Students\n",
      "Hello Students\n",
      "Hello Students\n",
      "Hello Students\n",
      "Hello Students\n",
      "Hello Students\n",
      "Hello Students\n",
      "Hello Students\n",
      "Hello Students\n",
      "Hello Students\n",
      "Hello Students\n",
      "Hello Students\n",
      "Hello Students\n",
      "Hello Students\n",
      "Hello Students\n",
      "This is the else block\n"
     ]
    }
   ],
   "source": [
    "# using else statment in while loop\n",
    "count = 0\n",
    "while(count<15):\n",
    "    count = count + 1\n",
    "    print(\"Hello Students\")\n",
    "else:\n",
    "    print(\"This is the else block\")"
   ]
  },
  {
   "cell_type": "code",
   "execution_count": 5,
   "id": "cd813614-4fc8-4284-883c-d89ef130e49e",
   "metadata": {},
   "outputs": [],
   "source": [
    "# nested if ( parent child combination of if statements is called nesting).\n",
    "# in python , the for loop is used to run a block of code for a certain \n",
    "# number of times.IT IS USED TO ITERATE OVER ANY SEQUENCES SUCH AS LIST ,TUPLE,STRING ETC.\n",
    "\n",
    "# a = 10 (string)\n",
    "# b = [ 1,2,3,4 ] ( list)\n",
    "# c = ( 8,9,10,11) ( tuple)"
   ]
  },
  {
   "cell_type": "code",
   "execution_count": 7,
   "id": "7545c32b-2f3b-483b-accc-aea39a68d1ee",
   "metadata": {},
   "outputs": [
    {
     "name": "stdout",
     "output_type": "stream",
     "text": [
      "apple\n",
      "banana\n",
      "cherry\n"
     ]
    }
   ],
   "source": [
    "# for loop\n",
    "\n",
    "fruits = [ \"Apple\", \"Banana\", \"Cherry\" ]\n",
    "\n",
    "for x in fruits:\n",
    "    print(x) # indexing take place in list it starts from 0,1,2."
   ]
  },
  {
   "cell_type": "code",
   "execution_count": 9,
   "id": "da3374c9-f7c3-4006-a11e-64de46dd238a",
   "metadata": {},
   "outputs": [
    {
     "name": "stdout",
     "output_type": "stream",
     "text": [
      " \n",
      "B\n",
      "a\n",
      "n\n",
      "a\n",
      "n\n",
      "a\n"
     ]
    }
   ],
   "source": [
    "# looping through a string\n",
    "\n",
    "for x in \" Banana\":\n",
    "    print(x) # indexing take place from 0 #"
   ]
  },
  {
   "cell_type": "code",
   "execution_count": 15,
   "id": "38ddafd8-4fca-4cea-ba65-9674573c327d",
   "metadata": {},
   "outputs": [
    {
     "name": "stdout",
     "output_type": "stream",
     "text": [
      "5\n",
      "6\n",
      "7\n",
      "8\n",
      "9\n",
      "10\n",
      "11\n",
      "12\n",
      "13\n",
      "14\n"
     ]
    }
   ],
   "source": [
    "# for loop to find range.\n",
    "\n",
    "for x in range(5,15):\n",
    "    print(x)\n"
   ]
  },
  {
   "cell_type": "code",
   "execution_count": null,
   "id": "fd2701a8-b187-4ced-b7c0-be79447a0154",
   "metadata": {},
   "outputs": [],
   "source": []
  }
 ],
 "metadata": {
  "kernelspec": {
   "display_name": "Python 3 (ipykernel)",
   "language": "python",
   "name": "python3"
  },
  "language_info": {
   "codemirror_mode": {
    "name": "ipython",
    "version": 3
   },
   "file_extension": ".py",
   "mimetype": "text/x-python",
   "name": "python",
   "nbconvert_exporter": "python",
   "pygments_lexer": "ipython3",
   "version": "3.12.4"
  }
 },
 "nbformat": 4,
 "nbformat_minor": 5
}
