{
 "cells": [
  {
   "cell_type": "code",
   "execution_count": null,
   "id": "d96e417e",
   "metadata": {},
   "outputs": [],
   "source": [
    "# Tuples are used to store multiple items in a single variable.\n",
    "\n",
    "# Tuple is one of the built-in data types in python used to store collections of data.\n",
    "# Tuple is a collection of objects separated by commas.\n",
    "# In some ways, a tuple is similar a python list is terms of indexing,nested objects,repetition but the difference between the two is that\n",
    "# we cannot change the elements of a tuple once it is assigned whereas list can change the elements of a list.\n",
    "\n",
    "# Tuple items are ordered,unchangeable, and allow duplicate values.\n",
    "# Tuple items are indexed, the first item has index[0], the second item has index[1] etc.\n",
    "\n",
    "# ordered\n",
    "\n",
    "# When we say that tuples are ordered,it means that the items have a defined order,and that order will not change.\n",
    "\n",
    "# unchangeable\n",
    "\n",
    "# Tuples are unchangeable, meaning that we cannot change ,add, or remove items after the item been created.\n",
    "\n",
    "# Allow duplicates\n",
    "\n",
    "# Since tuples are indexed,they can have items with the same values."
   ]
  },
  {
   "cell_type": "code",
   "execution_count": 3,
   "id": "56898a09",
   "metadata": {},
   "outputs": [
    {
     "name": "stdout",
     "output_type": "stream",
     "text": [
      "(1, 2, 3)\n",
      "<class 'tuple'>\n"
     ]
    }
   ],
   "source": [
    "my_tuple = (1,2,3)\n",
    "print(my_tuple)\n",
    "print(type(my_tuple))"
   ]
  },
  {
   "cell_type": "code",
   "execution_count": 4,
   "id": "db841352",
   "metadata": {},
   "outputs": [
    {
     "name": "stdout",
     "output_type": "stream",
     "text": [
      "(1, 'hello', 3.2, (4+5j))\n",
      "<class 'tuple'>\n"
     ]
    }
   ],
   "source": [
    "my_tuple = (1,\"hello\",3.2,4+5j)\n",
    "\n",
    "print(my_tuple)\n",
    "print(type(my_tuple))"
   ]
  },
  {
   "cell_type": "code",
   "execution_count": 5,
   "id": "d2c6bcda",
   "metadata": {},
   "outputs": [
    {
     "name": "stdout",
     "output_type": "stream",
     "text": [
      "()\n",
      "<class 'tuple'>\n"
     ]
    }
   ],
   "source": [
    "# empty tuple\n",
    "\n",
    "my_tuple = ()\n",
    "print(my_tuple)\n",
    "print(type(my_tuple))"
   ]
  },
  {
   "cell_type": "code",
   "execution_count": 6,
   "id": "2beff1b2",
   "metadata": {},
   "outputs": [
    {
     "name": "stdout",
     "output_type": "stream",
     "text": [
      "('data', [1, 2, 3], (4, 5, 6))\n",
      "<class 'tuple'>\n"
     ]
    }
   ],
   "source": [
    "# nested tuple\n",
    "\n",
    "a = (\"data\", [1,2,3],(4,5,6))\n",
    "print(a)\n",
    "print(type(a))"
   ]
  },
  {
   "cell_type": "code",
   "execution_count": 7,
   "id": "19711e59",
   "metadata": {},
   "outputs": [
    {
     "name": "stdout",
     "output_type": "stream",
     "text": [
      "hello\n",
      "<class 'str'>\n"
     ]
    }
   ],
   "source": [
    "# creating a tuple with only one item\n",
    "\n",
    "var1 = (\"hello\")\n",
    "print(var1)\n",
    "print(type(var1))"
   ]
  },
  {
   "cell_type": "code",
   "execution_count": 8,
   "id": "fad5183c",
   "metadata": {},
   "outputs": [
    {
     "name": "stdout",
     "output_type": "stream",
     "text": [
      "('hello',)\n",
      "<class 'tuple'>\n"
     ]
    }
   ],
   "source": [
    "var1 = (\"hello\",)\n",
    "print(var1)\n",
    "print(type(var1))"
   ]
  },
  {
   "cell_type": "code",
   "execution_count": 3,
   "id": "2c5d7913",
   "metadata": {},
   "outputs": [
    {
     "name": "stdout",
     "output_type": "stream",
     "text": [
      "('a', 'b', 'c')\n",
      "<class 'tuple'>\n"
     ]
    }
   ],
   "source": [
    "# tuple constructor\n",
    "\n",
    "a = tuple((\"a\",\"b\",\"c\"))\n",
    "print(a)\n",
    "print(type(a))"
   ]
  },
  {
   "cell_type": "code",
   "execution_count": 4,
   "id": "8e7e9acf",
   "metadata": {},
   "outputs": [
    {
     "name": "stdout",
     "output_type": "stream",
     "text": [
      "4\n",
      "<class 'int'>\n"
     ]
    }
   ],
   "source": [
    "# Indexing in tuple\n",
    "\n",
    "a = ( 47,48,45,46,48,4,8)\n",
    "print(a[5])\n",
    "print(type(a[5]))\n"
   ]
  },
  {
   "cell_type": "code",
   "execution_count": 6,
   "id": "9759109d",
   "metadata": {},
   "outputs": [
    {
     "name": "stdout",
     "output_type": "stream",
     "text": [
      "python\n"
     ]
    }
   ],
   "source": [
    "a = (47,48,45,48,1,8,\"data\",\"python\")\n",
    "\n",
    "print(a[7])"
   ]
  },
  {
   "cell_type": "code",
   "execution_count": 7,
   "id": "c32e294a",
   "metadata": {},
   "outputs": [
    {
     "name": "stdout",
     "output_type": "stream",
     "text": [
      "python\n"
     ]
    }
   ],
   "source": [
    "a = (47,48,45,48,1,8,\"data\",\"python\")\n",
    "\n",
    "print(a[-1])"
   ]
  },
  {
   "cell_type": "code",
   "execution_count": 10,
   "id": "634204f9",
   "metadata": {},
   "outputs": [
    {
     "name": "stdout",
     "output_type": "stream",
     "text": [
      "(14, 15, 17, 852, 8, 29)\n",
      "10\n"
     ]
    }
   ],
   "source": [
    "# Slicing in tuple\n",
    "\n",
    "a = (14,15,17,852,8,29,2,8,2,4)\n",
    "print(a[0:6])\n",
    "\n",
    "print(len(a))"
   ]
  },
  {
   "cell_type": "code",
   "execution_count": 11,
   "id": "efaffae5",
   "metadata": {},
   "outputs": [
    {
     "name": "stdout",
     "output_type": "stream",
     "text": [
      "(14, 15, 17, 852, 8, 29, 2, 8, 2, 4)\n",
      "10\n"
     ]
    }
   ],
   "source": [
    "a = (14,15,17,852,8,29,2,8,2,4)\n",
    "print(a[0:10])\n",
    "\n",
    "print(len(a))"
   ]
  },
  {
   "cell_type": "code",
   "execution_count": 13,
   "id": "5a72b615",
   "metadata": {},
   "outputs": [
    {
     "name": "stdout",
     "output_type": "stream",
     "text": [
      "(14, 15, 17, 852, 8, 29, 2, 8, 2, 4)\n",
      "10\n"
     ]
    }
   ],
   "source": [
    "a = (14,15,17,852,8,29,2,8,2,4)\n",
    "print(a[:])\n",
    "\n",
    "print(len(a))"
   ]
  },
  {
   "cell_type": "code",
   "execution_count": 14,
   "id": "3c5c1884",
   "metadata": {},
   "outputs": [
    {
     "name": "stdout",
     "output_type": "stream",
     "text": [
      "(14, 17, 8, 2, 2)\n",
      "10\n"
     ]
    }
   ],
   "source": [
    "a = (14,15,17,852,8,29,2,8,2,4)\n",
    "print(a[::2])\n",
    "\n",
    "print(len(a))"
   ]
  },
  {
   "cell_type": "code",
   "execution_count": 16,
   "id": "9961cba1",
   "metadata": {},
   "outputs": [
    {
     "name": "stdout",
     "output_type": "stream",
     "text": [
      "(4, 2, 8, 2, 29, 5, 821, 17, 15, 14)\n"
     ]
    }
   ],
   "source": [
    "# reverse a tuple\n",
    "\n",
    "a = (14,15,17,821,5,29,2,8,2,4)\n",
    "\n",
    "print(a[::-1])"
   ]
  },
  {
   "cell_type": "code",
   "execution_count": 17,
   "id": "373fcb90",
   "metadata": {},
   "outputs": [
    {
     "name": "stdout",
     "output_type": "stream",
     "text": [
      "(1, 2, 3, 4, 5, 6, 7, 8)\n",
      "(4, 5, 6, 7, 8)\n",
      "(1, 2, 3, 4)\n",
      "()\n"
     ]
    }
   ],
   "source": [
    "t = ( 1,2,3,4,5,6,7,8)\n",
    "print(t[::])\n",
    "print(t[3:])\n",
    "print(t[:4])\n",
    "print(t[-2:-5])"
   ]
  },
  {
   "cell_type": "code",
   "execution_count": 1,
   "id": "41474aa2",
   "metadata": {},
   "outputs": [
    {
     "name": "stdout",
     "output_type": "stream",
     "text": [
      "(1, 2, 3, 4, 5, 6, 7, 8, 3, 4, 2, 1)\n",
      "<class 'tuple'>\n"
     ]
    }
   ],
   "source": [
    "# Duplicates in tuple\n",
    "\n",
    "t = ( 1,2,3,4,5,6,7,8,3,4,2,1)\n",
    "\n",
    "print(t)\n",
    "print(type(t))"
   ]
  },
  {
   "cell_type": "code",
   "execution_count": 2,
   "id": "a5b0d006",
   "metadata": {},
   "outputs": [
    {
     "name": "stdout",
     "output_type": "stream",
     "text": [
      "(25, 25, 27, 28, 29, 30)\n"
     ]
    }
   ],
   "source": [
    "a = ( 25,25,27,28,29)\n",
    "\n",
    "y = list(a)\n",
    "\n",
    "y.append(30)\n",
    "a = tuple(y)\n",
    "print(a)\n"
   ]
  },
  {
   "cell_type": "code",
   "execution_count": 3,
   "id": "925ff0ff",
   "metadata": {},
   "outputs": [
    {
     "name": "stdout",
     "output_type": "stream",
     "text": [
      "(25, 27, 28, 29)\n"
     ]
    }
   ],
   "source": [
    "a = ( 25,25,27,28,29)\n",
    "\n",
    "y = list(a)\n",
    "\n",
    "y.remove(25)\n",
    "a = tuple(y)\n",
    "print(a)"
   ]
  },
  {
   "cell_type": "code",
   "execution_count": 4,
   "id": "b3194adf",
   "metadata": {},
   "outputs": [
    {
     "ename": "NameError",
     "evalue": "name 'a' is not defined",
     "output_type": "error",
     "traceback": [
      "\u001b[0;31m---------------------------------------------------------------------------\u001b[0m",
      "\u001b[0;31mNameError\u001b[0m                                 Traceback (most recent call last)",
      "Cell \u001b[0;32mIn[4], line 5\u001b[0m\n\u001b[1;32m      1\u001b[0m a \u001b[38;5;241m=\u001b[39m (\u001b[38;5;241m1\u001b[39m,\u001b[38;5;241m2\u001b[39m,\u001b[38;5;241m3\u001b[39m,\u001b[38;5;241m4\u001b[39m,\u001b[38;5;241m5\u001b[39m,\u001b[38;5;241m6\u001b[39m,\u001b[38;5;241m7\u001b[39m,\u001b[38;5;241m8\u001b[39m,\u001b[38;5;241m9\u001b[39m)\n\u001b[1;32m      3\u001b[0m \u001b[38;5;28;01mdel\u001b[39;00m a\n\u001b[0;32m----> 5\u001b[0m \u001b[38;5;28mprint\u001b[39m(\u001b[43ma\u001b[49m)\n",
      "\u001b[0;31mNameError\u001b[0m: name 'a' is not defined"
     ]
    }
   ],
   "source": [
    "a = (1,2,3,4,5,6,7,8,9)\n",
    "\n",
    "del a\n",
    "\n",
    "print(a)"
   ]
  },
  {
   "cell_type": "code",
   "execution_count": 5,
   "id": "497f6d3b",
   "metadata": {},
   "outputs": [
    {
     "name": "stdout",
     "output_type": "stream",
     "text": [
      "a\n",
      "b\n",
      "c\n"
     ]
    }
   ],
   "source": [
    "# loop\n",
    "\n",
    "thistuple = ( \"a\",\"b\",\"c\")\n",
    "\n",
    "for x in thistuple:\n",
    "    print(x)\n",
    "    "
   ]
  },
  {
   "cell_type": "code",
   "execution_count": 6,
   "id": "8fe81a9e",
   "metadata": {},
   "outputs": [
    {
     "name": "stdout",
     "output_type": "stream",
     "text": [
      "('a', 'b', 'c', 1, 2, 3)\n"
     ]
    }
   ],
   "source": [
    "# join two tuples\n",
    "\n",
    "tuple1 = ( \"a\",\"b\",\"c\")\n",
    "tuple2 = (1,2,3)\n",
    "tuple3 = tuple1+tuple2\n",
    "\n",
    "print(tuple3)"
   ]
  },
  {
   "cell_type": "code",
   "execution_count": 7,
   "id": "9fb6d215",
   "metadata": {},
   "outputs": [
    {
     "name": "stdout",
     "output_type": "stream",
     "text": [
      "('apple', 'data', 'python', 'apple', 'data', 'python')\n"
     ]
    }
   ],
   "source": [
    "# multiply tuples\n",
    "\n",
    "a = (\"apple\",\"data\",\"python\")\n",
    "\n",
    "b = a * 2\n",
    "\n",
    "print(b)"
   ]
  },
  {
   "cell_type": "code",
   "execution_count": 8,
   "id": "edea67df",
   "metadata": {},
   "outputs": [
    {
     "name": "stdout",
     "output_type": "stream",
     "text": [
      "(1, 2, 3, 4, 5, 6, 7, 8, 1, 2, 3, 4, 5, 6, 7, 8)\n",
      "(1, 2, 3, 4, 5, 6, 7, 8, 1, 2, 3, 4, 5, 6, 7, 8, 1, 2, 3, 4, 5, 6, 7, 8)\n",
      "(1, 2, 3, 4, 5, 6, 7, 8, 1, 2, 3, 4, 5, 6, 7, 8)\n",
      "8\n"
     ]
    }
   ],
   "source": [
    "t = (1,2,3,4,5,6,7,8)\n",
    "\n",
    "print(t*2)\n",
    "print(t+t+t)\n",
    "print(t+t)\n",
    "print(len(t))"
   ]
  },
  {
   "cell_type": "code",
   "execution_count": 9,
   "id": "bad6519b",
   "metadata": {},
   "outputs": [
    {
     "name": "stdout",
     "output_type": "stream",
     "text": [
      "(10,)\n",
      "(10, 20)\n",
      "(10, 20, 30)\n",
      "(10, 20, 30, 40)\n",
      "(10, 20, 30, 40, 50)\n"
     ]
    },
    {
     "ename": "ValueError",
     "evalue": "invalid literal for int() with base 10: ''",
     "output_type": "error",
     "traceback": [
      "\u001b[0;31m---------------------------------------------------------------------------\u001b[0m",
      "\u001b[0;31mValueError\u001b[0m                                Traceback (most recent call last)",
      "Cell \u001b[0;32mIn[9], line 7\u001b[0m\n\u001b[1;32m      5\u001b[0m i \u001b[38;5;241m=\u001b[39m \u001b[38;5;241m0\u001b[39m\n\u001b[1;32m      6\u001b[0m \u001b[38;5;28;01mwhile\u001b[39;00m i\u001b[38;5;241m<\u001b[39m\u001b[38;5;241m=\u001b[39m\u001b[38;5;241m5\u001b[39m:\n\u001b[0;32m----> 7\u001b[0m     num \u001b[38;5;241m=\u001b[39m \u001b[38;5;28;43mint\u001b[39;49m\u001b[43m(\u001b[49m\u001b[38;5;28;43minput\u001b[39;49m\u001b[43m(\u001b[49m\u001b[38;5;124;43m\"\u001b[39;49m\u001b[38;5;124;43mEnter the values\u001b[39;49m\u001b[38;5;124;43m\"\u001b[39;49m\u001b[43m)\u001b[49m\u001b[43m)\u001b[49m\n\u001b[1;32m      8\u001b[0m     t \u001b[38;5;241m=\u001b[39m t \u001b[38;5;241m+\u001b[39m (num,)\n\u001b[1;32m      9\u001b[0m     i \u001b[38;5;241m=\u001b[39m i \u001b[38;5;241m+\u001b[39m \u001b[38;5;241m1\u001b[39m\n",
      "\u001b[0;31mValueError\u001b[0m: invalid literal for int() with base 10: ''"
     ]
    }
   ],
   "source": [
    "# write a program, to take 5 input from the user and store it in a tuple.\n",
    "\n",
    "t = ()\n",
    "\n",
    "i = 0\n",
    "while i<=5:\n",
    "    num = int(input(\"Enter the values\"))\n",
    "    t = t + (num,)\n",
    "    i = i + 1\n",
    "\n",
    "    print(t)\n"
   ]
  },
  {
   "cell_type": "code",
   "execution_count": null,
   "id": "c531a4cb",
   "metadata": {},
   "outputs": [],
   "source": []
  }
 ],
 "metadata": {
  "kernelspec": {
   "display_name": "Python 3",
   "language": "python",
   "name": "python3"
  },
  "language_info": {
   "codemirror_mode": {
    "name": "ipython",
    "version": 3
   },
   "file_extension": ".py",
   "mimetype": "text/x-python",
   "name": "python",
   "nbconvert_exporter": "python",
   "pygments_lexer": "ipython3",
   "version": "3.12.6"
  }
 },
 "nbformat": 4,
 "nbformat_minor": 5
}
