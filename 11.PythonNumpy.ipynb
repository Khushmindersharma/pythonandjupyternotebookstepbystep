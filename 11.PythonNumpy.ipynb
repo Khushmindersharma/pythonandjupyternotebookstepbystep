{
 "cells": [
  {
   "cell_type": "code",
   "execution_count": 2,
   "id": "84c0f379",
   "metadata": {},
   "outputs": [],
   "source": [
    "# Numpy Library\n",
    "\n",
    "# Numpy (Numerical Python) is an open source Python library that's used in almost every field of science and engineering.\n",
    "# It's the universal standard for working with numerical data in python, and it's at the core of the scientific Pytho and Pydata ecosystems.\n",
    "\n",
    "# The NumPy library contains a multidimensional array and matrix data structures.\n",
    "# NumPy can be used to perform a wide variety of Mathematical operations on arrays.\n",
    "# It adds powerful data structures to Python that guarantee efficient calculations with arrays and matrics and it supplies an enormous library of high-level\n",
    "# mathematical functions that operate on these arrays and matrics.\n",
    "\n",
    "# It also has functions for working in domain of linear algebra,fourier transform and matrics.\n",
    "# NumPy was created in 2005 by Travis Oliphant.It is an open source project and you can use it freely.\n",
    "\n"
   ]
  },
  {
   "cell_type": "code",
   "execution_count": null,
   "id": "8ddaf8ed",
   "metadata": {},
   "outputs": [],
   "source": [
    "# Why we use NumPy\n",
    "\n",
    "# In python we have lists that serve the purpose of arrays,but they are slow to process.\n",
    "# NumPy aims to provide an array object that is up to 50X faster than traditional Python lists.\n",
    "# The array object in NumPy is called ndarray,it provides a lot of supporting functions that make working with ndarray very easy.\n",
    "# Arrays are very frequently used in data science,where speed and resources are important.\n",
    "\n",
    "# NumPy arrays are stored at one continuous place in memory unlike lists,so processess can access and manipulate them very efficiently.\n",
    "# This behaviour is called locality of reference in computer science.\n",
    "# This is the main reason why NumPy is faster than lists.\n",
    "# Also it is optimized to work with latest CPU architectures.\n"
   ]
  },
  {
   "cell_type": "code",
   "execution_count": null,
   "id": "9815755d",
   "metadata": {},
   "outputs": [],
   "source": [
    "# Installation of NumPy.\n",
    "\n",
    "# If you don't have python yet,you might want to consider using Anaconda.\n",
    "# It's the easiest way to get started.\n",
    "# The good thing about getting this distribution is the fact that you don't need to worry too much about separately installing NumPy or any of the major packages\n",
    "# That you'll be using for your data analysis ,like pandas,Scikit-Learn etc."
   ]
  },
  {
   "cell_type": "code",
   "execution_count": null,
   "id": "e7171536",
   "metadata": {},
   "outputs": [],
   "source": [
    "# Arrays in NumPy\n",
    "\n",
    "# 1D array\n",
    "# 7 2 9 10\n",
    "# shape:(4,)\n",
    "\n",
    "# 2D array\n",
    "# 5.2 3.0 4.5\n",
    "# 9.1 0.1 0.3\n",
    "# shape:(2,3)\n",
    "\n",
    "# 3D arrays\n",
    "\n",
    "# 1 4 7\n",
    "# 2 9 7\n",
    "# 1 3 0\n",
    "# axis 1\n",
    "\n",
    "# axis 2\n",
    "# 7 4\n",
    "# 7 5\n",
    "# 0 2\n",
    "\n",
    "# axis 0\n",
    "# 1 2\n",
    "# 4 3\n",
    "# 7 4\n",
    "\n",
    "# shape: ( 3,3,2)"
   ]
  },
  {
   "cell_type": "code",
   "execution_count": 5,
   "id": "fec5f196",
   "metadata": {},
   "outputs": [
    {
     "name": "stdout",
     "output_type": "stream",
     "text": [
      "Requirement already satisfied: jupyter in /opt/anaconda3/lib/python3.12/site-packages (1.0.0)\n",
      "Requirement already satisfied: numpy in /opt/anaconda3/lib/python3.12/site-packages (1.26.4)\n",
      "Requirement already satisfied: notebook in /opt/anaconda3/lib/python3.12/site-packages (from jupyter) (7.0.8)\n",
      "Requirement already satisfied: qtconsole in /opt/anaconda3/lib/python3.12/site-packages (from jupyter) (5.5.1)\n",
      "Requirement already satisfied: jupyter-console in /opt/anaconda3/lib/python3.12/site-packages (from jupyter) (6.6.3)\n",
      "Requirement already satisfied: nbconvert in /opt/anaconda3/lib/python3.12/site-packages (from jupyter) (7.10.0)\n",
      "Requirement already satisfied: ipykernel in /opt/anaconda3/lib/python3.12/site-packages (from jupyter) (6.28.0)\n",
      "Requirement already satisfied: ipywidgets in /opt/anaconda3/lib/python3.12/site-packages (from jupyter) (7.8.1)\n",
      "Requirement already satisfied: appnope in /opt/anaconda3/lib/python3.12/site-packages (from ipykernel->jupyter) (0.1.3)\n",
      "Requirement already satisfied: comm>=0.1.1 in /opt/anaconda3/lib/python3.12/site-packages (from ipykernel->jupyter) (0.2.1)\n",
      "Requirement already satisfied: debugpy>=1.6.5 in /opt/anaconda3/lib/python3.12/site-packages (from ipykernel->jupyter) (1.6.7)\n",
      "Requirement already satisfied: ipython>=7.23.1 in /opt/anaconda3/lib/python3.12/site-packages (from ipykernel->jupyter) (8.25.0)\n",
      "Requirement already satisfied: jupyter-client>=6.1.12 in /opt/anaconda3/lib/python3.12/site-packages (from ipykernel->jupyter) (8.6.0)\n",
      "Requirement already satisfied: jupyter-core!=5.0.*,>=4.12 in /opt/anaconda3/lib/python3.12/site-packages (from ipykernel->jupyter) (5.7.2)\n",
      "Requirement already satisfied: matplotlib-inline>=0.1 in /opt/anaconda3/lib/python3.12/site-packages (from ipykernel->jupyter) (0.1.6)\n",
      "Requirement already satisfied: nest-asyncio in /opt/anaconda3/lib/python3.12/site-packages (from ipykernel->jupyter) (1.6.0)\n",
      "Requirement already satisfied: packaging in /opt/anaconda3/lib/python3.12/site-packages (from ipykernel->jupyter) (23.2)\n",
      "Requirement already satisfied: psutil in /opt/anaconda3/lib/python3.12/site-packages (from ipykernel->jupyter) (5.9.0)\n",
      "Requirement already satisfied: pyzmq>=24 in /opt/anaconda3/lib/python3.12/site-packages (from ipykernel->jupyter) (25.1.2)\n",
      "Requirement already satisfied: tornado>=6.1 in /opt/anaconda3/lib/python3.12/site-packages (from ipykernel->jupyter) (6.4.1)\n",
      "Requirement already satisfied: traitlets>=5.4.0 in /opt/anaconda3/lib/python3.12/site-packages (from ipykernel->jupyter) (5.14.3)\n",
      "Requirement already satisfied: ipython-genutils~=0.2.0 in /opt/anaconda3/lib/python3.12/site-packages (from ipywidgets->jupyter) (0.2.0)\n",
      "Requirement already satisfied: widgetsnbextension~=3.6.6 in /opt/anaconda3/lib/python3.12/site-packages (from ipywidgets->jupyter) (3.6.6)\n",
      "Requirement already satisfied: jupyterlab-widgets<3,>=1.0.0 in /opt/anaconda3/lib/python3.12/site-packages (from ipywidgets->jupyter) (1.0.0)\n",
      "Requirement already satisfied: prompt-toolkit>=3.0.30 in /opt/anaconda3/lib/python3.12/site-packages (from jupyter-console->jupyter) (3.0.43)\n",
      "Requirement already satisfied: pygments in /opt/anaconda3/lib/python3.12/site-packages (from jupyter-console->jupyter) (2.15.1)\n",
      "Requirement already satisfied: beautifulsoup4 in /opt/anaconda3/lib/python3.12/site-packages (from nbconvert->jupyter) (4.12.3)\n",
      "Requirement already satisfied: bleach!=5.0.0 in /opt/anaconda3/lib/python3.12/site-packages (from nbconvert->jupyter) (4.1.0)\n",
      "Requirement already satisfied: defusedxml in /opt/anaconda3/lib/python3.12/site-packages (from nbconvert->jupyter) (0.7.1)\n",
      "Requirement already satisfied: jinja2>=3.0 in /opt/anaconda3/lib/python3.12/site-packages (from nbconvert->jupyter) (3.1.4)\n",
      "Requirement already satisfied: jupyterlab-pygments in /opt/anaconda3/lib/python3.12/site-packages (from nbconvert->jupyter) (0.1.2)\n",
      "Requirement already satisfied: markupsafe>=2.0 in /opt/anaconda3/lib/python3.12/site-packages (from nbconvert->jupyter) (2.1.3)\n",
      "Requirement already satisfied: mistune<4,>=2.0.3 in /opt/anaconda3/lib/python3.12/site-packages (from nbconvert->jupyter) (2.0.4)\n",
      "Requirement already satisfied: nbclient>=0.5.0 in /opt/anaconda3/lib/python3.12/site-packages (from nbconvert->jupyter) (0.8.0)\n",
      "Requirement already satisfied: nbformat>=5.7 in /opt/anaconda3/lib/python3.12/site-packages (from nbconvert->jupyter) (5.9.2)\n",
      "Requirement already satisfied: pandocfilters>=1.4.1 in /opt/anaconda3/lib/python3.12/site-packages (from nbconvert->jupyter) (1.5.0)\n",
      "Requirement already satisfied: tinycss2 in /opt/anaconda3/lib/python3.12/site-packages (from nbconvert->jupyter) (1.2.1)\n",
      "Requirement already satisfied: jupyter-server<3,>=2.4.0 in /opt/anaconda3/lib/python3.12/site-packages (from notebook->jupyter) (2.14.1)\n",
      "Requirement already satisfied: jupyterlab-server<3,>=2.22.1 in /opt/anaconda3/lib/python3.12/site-packages (from notebook->jupyter) (2.25.1)\n",
      "Requirement already satisfied: jupyterlab<4.1,>=4.0.2 in /opt/anaconda3/lib/python3.12/site-packages (from notebook->jupyter) (4.0.11)\n",
      "Requirement already satisfied: notebook-shim<0.3,>=0.2 in /opt/anaconda3/lib/python3.12/site-packages (from notebook->jupyter) (0.2.3)\n",
      "Requirement already satisfied: qtpy>=2.4.0 in /opt/anaconda3/lib/python3.12/site-packages (from qtconsole->jupyter) (2.4.1)\n",
      "Requirement already satisfied: six>=1.9.0 in /opt/anaconda3/lib/python3.12/site-packages (from bleach!=5.0.0->nbconvert->jupyter) (1.16.0)\n",
      "Requirement already satisfied: webencodings in /opt/anaconda3/lib/python3.12/site-packages (from bleach!=5.0.0->nbconvert->jupyter) (0.5.1)\n",
      "Requirement already satisfied: decorator in /opt/anaconda3/lib/python3.12/site-packages (from ipython>=7.23.1->ipykernel->jupyter) (5.1.1)\n",
      "Requirement already satisfied: jedi>=0.16 in /opt/anaconda3/lib/python3.12/site-packages (from ipython>=7.23.1->ipykernel->jupyter) (0.18.1)\n",
      "Requirement already satisfied: stack-data in /opt/anaconda3/lib/python3.12/site-packages (from ipython>=7.23.1->ipykernel->jupyter) (0.2.0)\n",
      "Requirement already satisfied: pexpect>4.3 in /opt/anaconda3/lib/python3.12/site-packages (from ipython>=7.23.1->ipykernel->jupyter) (4.8.0)\n",
      "Requirement already satisfied: python-dateutil>=2.8.2 in /opt/anaconda3/lib/python3.12/site-packages (from jupyter-client>=6.1.12->ipykernel->jupyter) (2.9.0.post0)\n",
      "Requirement already satisfied: platformdirs>=2.5 in /opt/anaconda3/lib/python3.12/site-packages (from jupyter-core!=5.0.*,>=4.12->ipykernel->jupyter) (3.10.0)\n",
      "Requirement already satisfied: anyio>=3.1.0 in /opt/anaconda3/lib/python3.12/site-packages (from jupyter-server<3,>=2.4.0->notebook->jupyter) (4.2.0)\n",
      "Requirement already satisfied: argon2-cffi>=21.1 in /opt/anaconda3/lib/python3.12/site-packages (from jupyter-server<3,>=2.4.0->notebook->jupyter) (21.3.0)\n",
      "Requirement already satisfied: jupyter-events>=0.9.0 in /opt/anaconda3/lib/python3.12/site-packages (from jupyter-server<3,>=2.4.0->notebook->jupyter) (0.10.0)\n",
      "Requirement already satisfied: jupyter-server-terminals>=0.4.4 in /opt/anaconda3/lib/python3.12/site-packages (from jupyter-server<3,>=2.4.0->notebook->jupyter) (0.4.4)\n",
      "Requirement already satisfied: overrides>=5.0 in /opt/anaconda3/lib/python3.12/site-packages (from jupyter-server<3,>=2.4.0->notebook->jupyter) (7.4.0)\n",
      "Requirement already satisfied: prometheus-client>=0.9 in /opt/anaconda3/lib/python3.12/site-packages (from jupyter-server<3,>=2.4.0->notebook->jupyter) (0.14.1)\n",
      "Requirement already satisfied: send2trash>=1.8.2 in /opt/anaconda3/lib/python3.12/site-packages (from jupyter-server<3,>=2.4.0->notebook->jupyter) (1.8.2)\n",
      "Requirement already satisfied: terminado>=0.8.3 in /opt/anaconda3/lib/python3.12/site-packages (from jupyter-server<3,>=2.4.0->notebook->jupyter) (0.17.1)\n",
      "Requirement already satisfied: websocket-client>=1.7 in /opt/anaconda3/lib/python3.12/site-packages (from jupyter-server<3,>=2.4.0->notebook->jupyter) (1.8.0)\n",
      "Requirement already satisfied: async-lru>=1.0.0 in /opt/anaconda3/lib/python3.12/site-packages (from jupyterlab<4.1,>=4.0.2->notebook->jupyter) (2.0.4)\n",
      "Requirement already satisfied: jupyter-lsp>=2.0.0 in /opt/anaconda3/lib/python3.12/site-packages (from jupyterlab<4.1,>=4.0.2->notebook->jupyter) (2.2.0)\n",
      "Requirement already satisfied: babel>=2.10 in /opt/anaconda3/lib/python3.12/site-packages (from jupyterlab-server<3,>=2.22.1->notebook->jupyter) (2.11.0)\n",
      "Requirement already satisfied: json5>=0.9.0 in /opt/anaconda3/lib/python3.12/site-packages (from jupyterlab-server<3,>=2.22.1->notebook->jupyter) (0.9.6)\n",
      "Requirement already satisfied: jsonschema>=4.18.0 in /opt/anaconda3/lib/python3.12/site-packages (from jupyterlab-server<3,>=2.22.1->notebook->jupyter) (4.19.2)\n",
      "Requirement already satisfied: requests>=2.31 in /opt/anaconda3/lib/python3.12/site-packages (from jupyterlab-server<3,>=2.22.1->notebook->jupyter) (2.32.2)\n",
      "Requirement already satisfied: fastjsonschema in /opt/anaconda3/lib/python3.12/site-packages (from nbformat>=5.7->nbconvert->jupyter) (2.16.2)\n",
      "Requirement already satisfied: wcwidth in /opt/anaconda3/lib/python3.12/site-packages (from prompt-toolkit>=3.0.30->jupyter-console->jupyter) (0.2.5)\n",
      "Requirement already satisfied: soupsieve>1.2 in /opt/anaconda3/lib/python3.12/site-packages (from beautifulsoup4->nbconvert->jupyter) (2.5)\n",
      "Requirement already satisfied: idna>=2.8 in /opt/anaconda3/lib/python3.12/site-packages (from anyio>=3.1.0->jupyter-server<3,>=2.4.0->notebook->jupyter) (3.7)\n",
      "Requirement already satisfied: sniffio>=1.1 in /opt/anaconda3/lib/python3.12/site-packages (from anyio>=3.1.0->jupyter-server<3,>=2.4.0->notebook->jupyter) (1.3.0)\n",
      "Requirement already satisfied: argon2-cffi-bindings in /opt/anaconda3/lib/python3.12/site-packages (from argon2-cffi>=21.1->jupyter-server<3,>=2.4.0->notebook->jupyter) (21.2.0)\n",
      "Requirement already satisfied: pytz>=2015.7 in /opt/anaconda3/lib/python3.12/site-packages (from babel>=2.10->jupyterlab-server<3,>=2.22.1->notebook->jupyter) (2024.1)\n",
      "Requirement already satisfied: parso<0.9.0,>=0.8.0 in /opt/anaconda3/lib/python3.12/site-packages (from jedi>=0.16->ipython>=7.23.1->ipykernel->jupyter) (0.8.3)\n",
      "Requirement already satisfied: attrs>=22.2.0 in /opt/anaconda3/lib/python3.12/site-packages (from jsonschema>=4.18.0->jupyterlab-server<3,>=2.22.1->notebook->jupyter) (23.1.0)\n",
      "Requirement already satisfied: jsonschema-specifications>=2023.03.6 in /opt/anaconda3/lib/python3.12/site-packages (from jsonschema>=4.18.0->jupyterlab-server<3,>=2.22.1->notebook->jupyter) (2023.7.1)\n",
      "Requirement already satisfied: referencing>=0.28.4 in /opt/anaconda3/lib/python3.12/site-packages (from jsonschema>=4.18.0->jupyterlab-server<3,>=2.22.1->notebook->jupyter) (0.30.2)\n",
      "Requirement already satisfied: rpds-py>=0.7.1 in /opt/anaconda3/lib/python3.12/site-packages (from jsonschema>=4.18.0->jupyterlab-server<3,>=2.22.1->notebook->jupyter) (0.10.6)\n",
      "Requirement already satisfied: python-json-logger>=2.0.4 in /opt/anaconda3/lib/python3.12/site-packages (from jupyter-events>=0.9.0->jupyter-server<3,>=2.4.0->notebook->jupyter) (2.0.7)\n",
      "Requirement already satisfied: pyyaml>=5.3 in /opt/anaconda3/lib/python3.12/site-packages (from jupyter-events>=0.9.0->jupyter-server<3,>=2.4.0->notebook->jupyter) (6.0.1)\n",
      "Requirement already satisfied: rfc3339-validator in /opt/anaconda3/lib/python3.12/site-packages (from jupyter-events>=0.9.0->jupyter-server<3,>=2.4.0->notebook->jupyter) (0.1.4)\n",
      "Requirement already satisfied: rfc3986-validator>=0.1.1 in /opt/anaconda3/lib/python3.12/site-packages (from jupyter-events>=0.9.0->jupyter-server<3,>=2.4.0->notebook->jupyter) (0.1.1)\n",
      "Requirement already satisfied: ptyprocess>=0.5 in /opt/anaconda3/lib/python3.12/site-packages (from pexpect>4.3->ipython>=7.23.1->ipykernel->jupyter) (0.7.0)\n",
      "Requirement already satisfied: charset-normalizer<4,>=2 in /opt/anaconda3/lib/python3.12/site-packages (from requests>=2.31->jupyterlab-server<3,>=2.22.1->notebook->jupyter) (2.0.4)\n",
      "Requirement already satisfied: urllib3<3,>=1.21.1 in /opt/anaconda3/lib/python3.12/site-packages (from requests>=2.31->jupyterlab-server<3,>=2.22.1->notebook->jupyter) (2.2.2)\n",
      "Requirement already satisfied: certifi>=2017.4.17 in /opt/anaconda3/lib/python3.12/site-packages (from requests>=2.31->jupyterlab-server<3,>=2.22.1->notebook->jupyter) (2024.8.30)\n",
      "Requirement already satisfied: executing in /opt/anaconda3/lib/python3.12/site-packages (from stack-data->ipython>=7.23.1->ipykernel->jupyter) (0.8.3)\n",
      "Requirement already satisfied: asttokens in /opt/anaconda3/lib/python3.12/site-packages (from stack-data->ipython>=7.23.1->ipykernel->jupyter) (2.0.5)\n",
      "Requirement already satisfied: pure-eval in /opt/anaconda3/lib/python3.12/site-packages (from stack-data->ipython>=7.23.1->ipykernel->jupyter) (0.2.2)\n",
      "Collecting fqdn (from jsonschema[format-nongpl]>=4.18.0->jupyter-events>=0.9.0->jupyter-server<3,>=2.4.0->notebook->jupyter)\n",
      "  Using cached fqdn-1.5.1-py3-none-any.whl.metadata (1.4 kB)\n",
      "Collecting isoduration (from jsonschema[format-nongpl]>=4.18.0->jupyter-events>=0.9.0->jupyter-server<3,>=2.4.0->notebook->jupyter)\n",
      "  Using cached isoduration-20.11.0-py3-none-any.whl.metadata (5.7 kB)\n",
      "Requirement already satisfied: jsonpointer>1.13 in /opt/anaconda3/lib/python3.12/site-packages (from jsonschema[format-nongpl]>=4.18.0->jupyter-events>=0.9.0->jupyter-server<3,>=2.4.0->notebook->jupyter) (2.1)\n",
      "Collecting uri-template (from jsonschema[format-nongpl]>=4.18.0->jupyter-events>=0.9.0->jupyter-server<3,>=2.4.0->notebook->jupyter)\n",
      "  Using cached uri_template-1.3.0-py3-none-any.whl.metadata (8.8 kB)\n",
      "Collecting webcolors>=1.11 (from jsonschema[format-nongpl]>=4.18.0->jupyter-events>=0.9.0->jupyter-server<3,>=2.4.0->notebook->jupyter)\n",
      "  Using cached webcolors-24.8.0-py3-none-any.whl.metadata (2.6 kB)\n",
      "Requirement already satisfied: cffi>=1.0.1 in /opt/anaconda3/lib/python3.12/site-packages (from argon2-cffi-bindings->argon2-cffi>=21.1->jupyter-server<3,>=2.4.0->notebook->jupyter) (1.16.0)\n",
      "Requirement already satisfied: pycparser in /opt/anaconda3/lib/python3.12/site-packages (from cffi>=1.0.1->argon2-cffi-bindings->argon2-cffi>=21.1->jupyter-server<3,>=2.4.0->notebook->jupyter) (2.21)\n",
      "Requirement already satisfied: arrow>=0.15.0 in /opt/anaconda3/lib/python3.12/site-packages (from isoduration->jsonschema[format-nongpl]>=4.18.0->jupyter-events>=0.9.0->jupyter-server<3,>=2.4.0->notebook->jupyter) (1.2.3)\n",
      "Using cached webcolors-24.8.0-py3-none-any.whl (15 kB)\n",
      "Using cached fqdn-1.5.1-py3-none-any.whl (9.1 kB)\n",
      "Using cached isoduration-20.11.0-py3-none-any.whl (11 kB)\n",
      "Using cached uri_template-1.3.0-py3-none-any.whl (11 kB)\n",
      "Installing collected packages: webcolors, uri-template, fqdn, isoduration\n",
      "Successfully installed fqdn-1.5.1 isoduration-20.11.0 uri-template-1.3.0 webcolors-24.8.0\n"
     ]
    }
   ],
   "source": [
    "! pip install  jupyter numpy\n",
    "\n"
   ]
  },
  {
   "cell_type": "code",
   "execution_count": 1,
   "id": "5ebf5705",
   "metadata": {},
   "outputs": [
    {
     "name": "stdout",
     "output_type": "stream",
     "text": [
      "Name: numpy\n",
      "Version: 1.26.4\n",
      "Summary: Fundamental package for array computing in Python\n",
      "Home-page: https://numpy.org\n",
      "Author: Travis E. Oliphant et al.\n",
      "Author-email: \n",
      "License: Copyright (c) 2005-2023, NumPy Developers.\n",
      "All rights reserved.\n",
      "\n",
      "Redistribution and use in source and binary forms, with or without\n",
      "modification, are permitted provided that the following conditions are\n",
      "met:\n",
      "\n",
      "    * Redistributions of source code must retain the above copyright\n",
      "       notice, this list of conditions and the following disclaimer.\n",
      "\n",
      "    * Redistributions in binary form must reproduce the above\n",
      "       copyright notice, this list of conditions and the following\n",
      "       disclaimer in the documentation and/or other materials provided\n",
      "       with the distribution.\n",
      "\n",
      "    * Neither the name of the NumPy Developers nor the names of any\n",
      "       contributors may be used to endorse or promote products derived\n",
      "       from this software without specific prior written permission.\n",
      "\n",
      "THIS SOFTWARE IS PROVIDED BY THE COPYRIGHT HOLDERS AND CONTRIBUTORS\n",
      "\"AS IS\" AND ANY EXPRESS OR IMPLIED WARRANTIES, INCLUDING, BUT NOT\n",
      "LIMITED TO, THE IMPLIED WARRANTIES OF MERCHANTABILITY AND FITNESS FOR\n",
      "A PARTICULAR PURPOSE ARE DISCLAIMED. IN NO EVENT SHALL THE COPYRIGHT\n",
      "OWNER OR CONTRIBUTORS BE LIABLE FOR ANY DIRECT, INDIRECT, INCIDENTAL,\n",
      "SPECIAL, EXEMPLARY, OR CONSEQUENTIAL DAMAGES (INCLUDING, BUT NOT\n",
      "LIMITED TO, PROCUREMENT OF SUBSTITUTE GOODS OR SERVICES; LOSS OF USE,\n",
      "DATA, OR PROFITS; OR BUSINESS INTERRUPTION) HOWEVER CAUSED AND ON ANY\n",
      "THEORY OF LIABILITY, WHETHER IN CONTRACT, STRICT LIABILITY, OR TORT\n",
      "(INCLUDING NEGLIGENCE OR OTHERWISE) ARISING IN ANY WAY OUT OF THE USE\n",
      "OF THIS SOFTWARE, EVEN IF ADVISED OF THE POSSIBILITY OF SUCH DAMAGE.\n",
      "Location: /opt/anaconda3/lib/python3.12/site-packages\n",
      "Requires: \n",
      "Required-by: altair, astropy, bokeh, Bottleneck, contourpy, datashader, gensim, h5py, holoviews, hvplot, imagecodecs, imageio, imbalanced-learn, matplotlib, numba, numexpr, pandas, patsy, pyarrow, pydeck, pyerfa, pywavelets, scikit-image, scikit-learn, scipy, seaborn, statsmodels, streamlit, tables, tifffile, xarray\n"
     ]
    }
   ],
   "source": [
    "!pip show numpy\n"
   ]
  },
  {
   "cell_type": "code",
   "execution_count": 3,
   "id": "6a6c06af-0fe2-4812-8b30-2aa88b7c84b0",
   "metadata": {},
   "outputs": [],
   "source": [
    "import numpy as np\n",
    "\n"
   ]
  },
  {
   "cell_type": "code",
   "execution_count": 5,
   "id": "92789da4-cde9-4a2e-b01a-9d9525b94879",
   "metadata": {},
   "outputs": [
    {
     "name": "stdout",
     "output_type": "stream",
     "text": [
      "[1 2 3 4 5]\n",
      "<class 'numpy.ndarray'>\n"
     ]
    }
   ],
   "source": [
    "arr = np.array([1,2,3,4,5]) # pass a list \n",
    "\n",
    "print(arr)\n",
    "print(type(arr))"
   ]
  },
  {
   "cell_type": "code",
   "execution_count": 7,
   "id": "d8da766f-4538-4350-87a9-b29f3915dc16",
   "metadata": {},
   "outputs": [
    {
     "name": "stdout",
     "output_type": "stream",
     "text": [
      "[1 2 3 4 5]\n",
      "<class 'numpy.ndarray'>\n"
     ]
    }
   ],
   "source": [
    "# Using the tuple to create array.\n",
    "\n",
    "arr = np.array((1,2,3,4,5))\n",
    "\n",
    "print(arr)\n",
    "print(type(arr))"
   ]
  },
  {
   "cell_type": "code",
   "execution_count": 11,
   "id": "4a6cebf4-f9d4-4e10-85dd-2753f4edbcbe",
   "metadata": {},
   "outputs": [
    {
     "name": "stdout",
     "output_type": "stream",
     "text": [
      "20\n",
      "<class 'numpy.ndarray'>\n",
      "0\n"
     ]
    }
   ],
   "source": [
    "# Dimensions in arrays\n",
    "\n",
    "arr = np.array(20)\n",
    "\n",
    "print(arr)\n",
    "print(type(arr))\n",
    "print(arr.ndim)\n"
   ]
  },
  {
   "cell_type": "code",
   "execution_count": 13,
   "id": "573c2a86-fdc1-462d-bc14-477adf0c5178",
   "metadata": {},
   "outputs": [
    {
     "name": "stdout",
     "output_type": "stream",
     "text": [
      "[1 2 3 4 5 6]\n",
      "1\n"
     ]
    }
   ],
   "source": [
    "# 1D array\n",
    "\n",
    "arr = np.array([1,2,3,4,5,6])\n",
    "\n",
    "print(arr)\n",
    "print(arr.ndim)"
   ]
  },
  {
   "cell_type": "code",
   "execution_count": 21,
   "id": "70d0a96c-27fa-4a7d-90f2-b8234da69d8d",
   "metadata": {},
   "outputs": [
    {
     "name": "stdout",
     "output_type": "stream",
     "text": [
      "[1 2 3 4 5 6]\n",
      "1\n"
     ]
    }
   ],
   "source": [
    "# 2D array\n",
    "\n",
    "arr1 = np.array([[1,2,3],[4,5,6]])\n",
    "\n",
    "print(arr)\n",
    "print(arr.ndim)"
   ]
  },
  {
   "cell_type": "code",
   "execution_count": 23,
   "id": "8ca8a37d-d59d-4afa-bf07-ec79daab8ba1",
   "metadata": {},
   "outputs": [
    {
     "name": "stdout",
     "output_type": "stream",
     "text": [
      "[[1.1 2.2 3.3]\n",
      " [4.4 5.6 6. ]]\n",
      "2\n"
     ]
    }
   ],
   "source": [
    "# floating point numbers\n",
    "\n",
    "arrf = np.array([[1.1,2.2,3.3],[4.4,5.6,6]])\n",
    "\n",
    "print(arrf)\n",
    "print(arrf.ndim)"
   ]
  },
  {
   "cell_type": "code",
   "execution_count": 25,
   "id": "e751a521-0f05-4a29-b4d0-89ec427a76af",
   "metadata": {},
   "outputs": [
    {
     "name": "stdout",
     "output_type": "stream",
     "text": [
      "[[[1 2 3]\n",
      "  [4 5 6]\n",
      "  [7 8 9]]]\n",
      "3\n"
     ]
    }
   ],
   "source": [
    "# 3D array\n",
    "\n",
    "arr3 = np.array([[[1,2,3],[4,5,6],[7,8,9]]])\n",
    "\n",
    "\n",
    "print(arr3)\n",
    "print(arr3.ndim)"
   ]
  },
  {
   "cell_type": "code",
   "execution_count": 27,
   "id": "db734728-7ef0-45ae-8a4c-6110025ecb3e",
   "metadata": {},
   "outputs": [
    {
     "name": "stdout",
     "output_type": "stream",
     "text": [
      "0\n",
      "1\n",
      "2\n",
      "3\n"
     ]
    }
   ],
   "source": [
    "a = np.array(42)\n",
    "b = np.array([1,2,3,4,5])\n",
    "c = np.array([[1,2,3],[4,5,6]])\n",
    "d = np.array([[[1,2,3],[4,5,6],[7,8,9]]])\n",
    "\n",
    "print(a.ndim)\n",
    "print(b.ndim)\n",
    "print(c.ndim)\n",
    "print(d.ndim)"
   ]
  },
  {
   "cell_type": "code",
   "execution_count": 29,
   "id": "111f6564-287d-4e2f-9a74-24612f930552",
   "metadata": {},
   "outputs": [
    {
     "name": "stdout",
     "output_type": "stream",
     "text": [
      "[[[[[1 2 3 4]]]]]\n",
      "Number of Dimensions : 5\n"
     ]
    }
   ],
   "source": [
    "# Higher Dimentional Arrays\n",
    "\n",
    "# An array can have any number of dimensions\n",
    "# when the array is created,you can defien the number of dimensions by using the ndmin argument.\n",
    "\n",
    "arr = np.array([1,2,3,4],ndmin=5)\n",
    "\n",
    "print(arr)\n",
    "print(\"Number of Dimensions :\", arr.ndim)"
   ]
  },
  {
   "cell_type": "code",
   "execution_count": 31,
   "id": "292a12c2-9d2d-4c27-b4c9-56bddeb58627",
   "metadata": {},
   "outputs": [
    {
     "name": "stdout",
     "output_type": "stream",
     "text": [
      "[[[[[1 2 3 4]]]]]\n",
      "5\n"
     ]
    }
   ],
   "source": [
    "a = np.array([[[[[1,2,3,4]]]]])\n",
    "\n",
    "print(a)\n",
    "print(a.ndim)"
   ]
  },
  {
   "cell_type": "code",
   "execution_count": null,
   "id": "84371481-247c-44de-a426-54f5b656877e",
   "metadata": {},
   "outputs": [],
   "source": [
    "# NumPy Array Indexing\n",
    "\n",
    "# Array indexing is the same as accessing an array element.\n",
    "# You can access an array element by referring to its index number.\n",
    "\n",
    "# The indexes in NumPy arrays start with 0,meaning that the first element has index 0, and the second has index 1 etc.\n",
    "\n"
   ]
  },
  {
   "cell_type": "code",
   "execution_count": 35,
   "id": "026b5aee-5f29-42c6-a853-193bb30f4655",
   "metadata": {},
   "outputs": [
    {
     "name": "stdout",
     "output_type": "stream",
     "text": [
      "1\n"
     ]
    }
   ],
   "source": [
    "# Get the first element from the following array.\n",
    "\n",
    "arr = np.array([1,2,3,4])\n",
    "\n",
    "print(arr[0])"
   ]
  },
  {
   "cell_type": "code",
   "execution_count": 37,
   "id": "cadbbd0b-c015-486e-b3e4-13290099e407",
   "metadata": {},
   "outputs": [
    {
     "name": "stdout",
     "output_type": "stream",
     "text": [
      "The second element is  34.0\n",
      "The sixth element is  90.0\n",
      "The 8th element is  10.0\n",
      "The second element is  134.0\n"
     ]
    }
   ],
   "source": [
    "# Get third and sixth and 8th elements from the following array and add them.\n",
    "\n",
    "m = np.array([41,87,34,56.8,39.23,90,25,10,19,56])\n",
    "\n",
    "print(\"The second element is \" , m[2])\n",
    "print(\"The sixth element is \" , m[5])\n",
    "print(\"The 8th element is \" , m[7])\n",
    "print(\"The second element is \" , m[2]+m[5]+m[7])"
   ]
  },
  {
   "cell_type": "code",
   "execution_count": null,
   "id": "23d6c7c0-6c22-493f-91dd-7e9448bc2699",
   "metadata": {},
   "outputs": [],
   "source": [
    "# Get 2d array access.\n",
    "\n",
    "# To access elements from 2d arrays we can use commas separated integers representing the demension and the index of the element\n",
    "# Think of 2d arrays like a table with rows and columns,where the dimension represents the row and the index represents the column.\n",
    "\n",
    "\n"
   ]
  },
  {
   "cell_type": "code",
   "execution_count": 39,
   "id": "f4cb516d-0b47-4d5e-b614-c2298108b49e",
   "metadata": {},
   "outputs": [
    {
     "name": "stdout",
     "output_type": "stream",
     "text": [
      "2nd element on 1st row : 20\n"
     ]
    }
   ],
   "source": [
    "arr = np.array([[10,20,30,40,50],[60,70,80,90,100]])\n",
    "\n",
    "print(\"2nd element on 1st row :\" , arr[0,1])"
   ]
  },
  {
   "cell_type": "code",
   "execution_count": 43,
   "id": "8a7f3854-b763-432d-bd2b-b3a7ac9e60f6",
   "metadata": {},
   "outputs": [
    {
     "name": "stdout",
     "output_type": "stream",
     "text": [
      "4th element on 1st row : 40\n"
     ]
    }
   ],
   "source": [
    "arr = np.array([[10,20,30,40,50],[60,70,80,90,100]])\n",
    "\n",
    "print(\"4th element on 1st row :\" , arr[0,3])"
   ]
  },
  {
   "cell_type": "code",
   "execution_count": 45,
   "id": "18be0ec6-b1dd-4605-8852-e307138b872e",
   "metadata": {},
   "outputs": [
    {
     "name": "stdout",
     "output_type": "stream",
     "text": [
      "1st element on 2nd row : 60\n"
     ]
    }
   ],
   "source": [
    "arr = np.array([[10,20,30,40,50],[60,70,80,90,100]])\n",
    "\n",
    "print(\"1st element on 2nd row :\" , arr[1,0])"
   ]
  },
  {
   "cell_type": "code",
   "execution_count": 47,
   "id": "cb801509-76e9-4cf0-a915-0345218a27e8",
   "metadata": {},
   "outputs": [
    {
     "name": "stdout",
     "output_type": "stream",
     "text": [
      "Last element on 2nd row : 100\n"
     ]
    }
   ],
   "source": [
    "arr = np.array([[10,20,30,40,50],[60,70,80,90,100]])\n",
    "\n",
    "print(\"Last element on 2nd row :\" , arr[1,4])"
   ]
  },
  {
   "cell_type": "code",
   "execution_count": 59,
   "id": "4872dd52-b483-4c93-8a91-8eaed10f2e80",
   "metadata": {},
   "outputs": [
    {
     "name": "stdout",
     "output_type": "stream",
     "text": [
      "6\n"
     ]
    }
   ],
   "source": [
    "# Access 3d arrays\n",
    "# To access elements from 3d array we can use commas separated integers representing the dimensions and the \n",
    "# index of the element\n",
    "\n",
    "arr = np.array([[\n",
    "    [1,2,3],\n",
    "    [6,7,8],\n",
    "    [1,11,12]\n",
    "    ]])\n",
    "\n",
    "print(arr[0,1,0])"
   ]
  },
  {
   "cell_type": "code",
   "execution_count": 67,
   "id": "b2cc41a6-5052-4913-ba69-f3c193a99570",
   "metadata": {},
   "outputs": [
    {
     "name": "stdout",
     "output_type": "stream",
     "text": [
      "8\n"
     ]
    }
   ],
   "source": [
    "arr = np.array([[[1,2,3],[6,7,8],[1,11,12]]])\n",
    "\n",
    "print(arr[0,1,2])"
   ]
  },
  {
   "cell_type": "code",
   "execution_count": 63,
   "id": "8fd7cf4c-927b-4001-9f05-1273974f5778",
   "metadata": {},
   "outputs": [
    {
     "name": "stdout",
     "output_type": "stream",
     "text": [
      "7\n"
     ]
    }
   ],
   "source": [
    "arr = np.array([[[1,2,3],[6,7,8],[1,11,12]]])\n",
    "\n",
    "print(arr[0,1,1])"
   ]
  },
  {
   "cell_type": "code",
   "execution_count": 43,
   "id": "b5c69638-cedd-4609-91b9-e8d17ab5c7b0",
   "metadata": {},
   "outputs": [
    {
     "name": "stdout",
     "output_type": "stream",
     "text": [
      "[[7 8 9]]\n"
     ]
    }
   ],
   "source": [
    "# Slicing of numpy arrays\n",
    "\n",
    "arr = np.array([[\n",
    "    [1,2,3],[4,5,6],[7,8,9]\n",
    "    ]])\n",
    "\n",
    "print(arr[0,2:3])\n",
    "\n",
    "\n",
    "               "
   ]
  },
  {
   "cell_type": "code",
   "execution_count": 25,
   "id": "78624600-de16-4c63-9b3c-5d2297a6b65e",
   "metadata": {},
   "outputs": [
    {
     "name": "stdout",
     "output_type": "stream",
     "text": [
      "[2 3 4 5]\n"
     ]
    }
   ],
   "source": [
    "arr = np.array([1,2,3,4,5,6,7])\n",
    "\n",
    "print(arr[1:5])"
   ]
  },
  {
   "cell_type": "code",
   "execution_count": 9,
   "id": "e2787422-8063-4e88-9d2d-a8fd9542494a",
   "metadata": {},
   "outputs": [
    {
     "name": "stdout",
     "output_type": "stream",
     "text": [
      "[1 3 5 7]\n"
     ]
    }
   ],
   "source": [
    "arr = np.array([1,2,3,4,5,6,7])\n",
    "\n",
    "print(arr[::2])"
   ]
  },
  {
   "cell_type": "code",
   "execution_count": 11,
   "id": "1dba46f4-377f-4c42-b252-92e662f63c92",
   "metadata": {},
   "outputs": [
    {
     "name": "stdout",
     "output_type": "stream",
     "text": [
      "[70 80 90]\n"
     ]
    }
   ],
   "source": [
    "# slicing in 2d arrays\n",
    "\n",
    "a = np.array([\n",
    "            [10,20,30,40,50],\n",
    "            [60,70,80,90,100]\n",
    "            ])\n",
    "\n",
    "print(a[1,1:4])\n",
    "\n",
    "\n"
   ]
  },
  {
   "cell_type": "code",
   "execution_count": 13,
   "id": "df040adb-c47f-41ba-9344-ff1ac9cbaa3f",
   "metadata": {},
   "outputs": [
    {
     "name": "stdout",
     "output_type": "stream",
     "text": [
      "[20 30]\n"
     ]
    }
   ],
   "source": [
    "a = np.array([\n",
    "            [10,20,30,40,50],\n",
    "            [60,70,80,90,100]\n",
    "            ])\n",
    "\n",
    "print(a[0,0:3])"
   ]
  },
  {
   "cell_type": "code",
   "execution_count": null,
   "id": "b1704692-6446-4652-9dcc-2b06a68e7cbb",
   "metadata": {},
   "outputs": [],
   "source": [
    "# Arthmatic operations in arrays.\n",
    "# NumPy has some extra data types,and refer to data types with one character,like i for intergers,\n",
    "\n",
    "# numpy:- i = intergers,b = booleon,,u = unsigned integers,f = floating point,c = complex float,m = time data,\n",
    "# M = date time,O = object,S = string,U = unicode string,V = fixed chunk of memory for other type ( void).\n",
    "\n",
    "\n"
   ]
  },
  {
   "cell_type": "code",
   "execution_count": 45,
   "id": "2b38169f-8211-4989-bda2-5ca878a16edd",
   "metadata": {},
   "outputs": [
    {
     "name": "stdout",
     "output_type": "stream",
     "text": [
      "int64\n"
     ]
    }
   ],
   "source": [
    "# checking the data type of an array.\n",
    "\n",
    "arr = np.array(\n",
    "    [1,2,3,4])\n",
    "\n",
    "print(arr.dtype)"
   ]
  },
  {
   "cell_type": "code",
   "execution_count": 47,
   "id": "84ee42f1-7fd3-4feb-8125-4ceb7ffa8edb",
   "metadata": {},
   "outputs": [
    {
     "name": "stdout",
     "output_type": "stream",
     "text": [
      "<U7\n"
     ]
    }
   ],
   "source": [
    "arr = np.array(\n",
    "    [\"animals\",\"bat\",\"cat\"])\n",
    "\n",
    "print(arr.dtype)"
   ]
  },
  {
   "cell_type": "code",
   "execution_count": 49,
   "id": "69f10bc1-17cf-41d5-a754-ccae0ccf41dd",
   "metadata": {},
   "outputs": [
    {
     "name": "stdout",
     "output_type": "stream",
     "text": [
      "[b'1' b'2' b'3' b'4']\n",
      "|S1\n"
     ]
    }
   ],
   "source": [
    "# Creating arrays with a defined data type.\n",
    "\n",
    "arr = np.array(\n",
    "    [1,2,3,4],dtype = 'S')\n",
    "\n",
    "print(arr)\n",
    "print(arr.dtype)"
   ]
  },
  {
   "cell_type": "code",
   "execution_count": 51,
   "id": "40dc9ba9-2f39-4893-b92e-6b06784d49a2",
   "metadata": {},
   "outputs": [
    {
     "name": "stdout",
     "output_type": "stream",
     "text": [
      "[1 2 3 4]\n",
      "int32\n"
     ]
    }
   ],
   "source": [
    "# creat an array with data types 4 bytes integer.\n",
    "\n",
    "arr = np.array(\n",
    "    [1,2,3,4],\n",
    "    dtype ='i4')\n",
    "\n",
    "print(arr)\n",
    "print(arr.dtype)"
   ]
  },
  {
   "cell_type": "code",
   "execution_count": null,
   "id": "520e4bd1-245f-49fc-83c7-2ed172348b94",
   "metadata": {},
   "outputs": [],
   "source": [
    "# NumPy array Shape\n",
    "\n",
    "# The shape of an array is the number of elements in each dimension.\n",
    "\n"
   ]
  },
  {
   "cell_type": "code",
   "execution_count": 53,
   "id": "7eadede7-90ea-4638-85c6-ae31b9c9b748",
   "metadata": {},
   "outputs": [
    {
     "name": "stdout",
     "output_type": "stream",
     "text": [
      "(2, 4)\n"
     ]
    }
   ],
   "source": [
    "arr = np.array([\n",
    "    [1,2,3,4],\n",
    "    [5,6,7,8]])\n",
    "\n",
    "print(arr.shape)"
   ]
  },
  {
   "cell_type": "code",
   "execution_count": 9,
   "id": "c37d9935-fcde-42b3-ae3f-695c0cdeede4",
   "metadata": {},
   "outputs": [
    {
     "name": "stdout",
     "output_type": "stream",
     "text": [
      "(1, 3, 5)\n"
     ]
    }
   ],
   "source": [
    "\n",
    "import numpy as np\n",
    "\n",
    "a = np.array([[\n",
    "            [10,20,30,40,50],\n",
    "            [60,70,80,90,100],\n",
    "            [5,6,7,8,9]\n",
    "            ]])\n",
    "\n",
    "print(a.shape)\n"
   ]
  },
  {
   "cell_type": "code",
   "execution_count": 13,
   "id": "6560a064-1063-4131-99d3-b19c6377f07e",
   "metadata": {},
   "outputs": [
    {
     "name": "stdout",
     "output_type": "stream",
     "text": [
      "[1 2 3 4 5 6]\n"
     ]
    }
   ],
   "source": [
    "# Joining NumPu arrays.\n",
    "\n",
    "arr1 = np.array([1,2,3])\n",
    "arr2 = np.array([4,5,6])\n",
    "\n",
    "arr = np.concatenate((arr1,arr2))\n",
    "\n",
    "print(arr)"
   ]
  },
  {
   "cell_type": "code",
   "execution_count": 25,
   "id": "46146472-7a31-4217-a391-eff1246a7518",
   "metadata": {},
   "outputs": [
    {
     "name": "stdout",
     "output_type": "stream",
     "text": [
      "[[1 2 5 6]\n",
      " [3 4 7 8]]\n"
     ]
    }
   ],
   "source": [
    "# concatenate 2d arrays\n",
    "\n",
    "arr1 = np.array([\n",
    "    [1,2],[3,4]])\n",
    "\n",
    "arr2 = np.array([\n",
    "    [5,6],[7,8]])\n",
    "\n",
    "# concatenation with columns.\n",
    "\n",
    "arr = np.concatenate((arr1,arr2), axis = 1)\n",
    "\n",
    "print(arr)"
   ]
  },
  {
   "cell_type": "code",
   "execution_count": 27,
   "id": "c1f12ac0-8bec-44ba-8f85-a4e9e2663749",
   "metadata": {},
   "outputs": [
    {
     "name": "stdout",
     "output_type": "stream",
     "text": [
      "[[1 2]\n",
      " [3 4]\n",
      " [5 6]\n",
      " [7 8]]\n"
     ]
    }
   ],
   "source": [
    "arr1 = np.array([\n",
    "    [1,2],[3,4]])\n",
    "\n",
    "arr2 = np.array([\n",
    "    [5,6],[7,8]])\n",
    "\n",
    "# concatenation with rows\n",
    "\n",
    "arr = np.concatenate((arr1,arr2), axis = 0)\n",
    "print(arr)"
   ]
  },
  {
   "cell_type": "code",
   "execution_count": 29,
   "id": "bd093bae-3a44-4771-81a4-b313825cf165",
   "metadata": {},
   "outputs": [
    {
     "name": "stdout",
     "output_type": "stream",
     "text": [
      "[array([1, 2]), array([3, 4]), array([5, 6])]\n"
     ]
    }
   ],
   "source": [
    "# splitting in the arrays in NumPy.\n",
    "\n",
    "arr = np.array([1,2,3,4,5,6])\n",
    "\n",
    "newarr = np.array_split(arr,3)\n",
    "\n",
    "print(newarr)\n"
   ]
  },
  {
   "cell_type": "code",
   "execution_count": 31,
   "id": "39cfe847-3550-4ace-9883-a0ed82f832ac",
   "metadata": {},
   "outputs": [
    {
     "name": "stdout",
     "output_type": "stream",
     "text": [
      "[array([1, 2]), array([3, 4]), array([5]), array([6])]\n"
     ]
    }
   ],
   "source": [
    "# splitting the arrays in 4 parts.\n",
    "\n",
    "arr = np.array([1,2,3,4,5,6])\n",
    "newarr = np.array_split(arr,4)\n",
    "\n",
    "print(newarr)"
   ]
  },
  {
   "cell_type": "code",
   "execution_count": 33,
   "id": "3edf6be6-0244-42c6-a5cf-7a799bd8a98b",
   "metadata": {},
   "outputs": [
    {
     "name": "stdout",
     "output_type": "stream",
     "text": [
      "[[[1 2 3]\n",
      "  [4 5 6]\n",
      "  [7 8 9]]]\n",
      "Dimension is  3\n"
     ]
    }
   ],
   "source": [
    "# ravel & flatten\n",
    "\n",
    "# converts multidimensional array into 1d array.\n",
    "\n",
    "m = np.array([[\n",
    "    [1,2,3],\n",
    "    [4,5,6],\n",
    "    [7,8,9]]])\n",
    "\n",
    "print(m)\n",
    "print(\"Dimension is \", m.ndim)"
   ]
  },
  {
   "cell_type": "code",
   "execution_count": 35,
   "id": "e554db7c-af9b-4610-9803-429293fbf5b3",
   "metadata": {},
   "outputs": [
    {
     "name": "stdout",
     "output_type": "stream",
     "text": [
      "[[[1 2 3]\n",
      "  [4 5 6]\n",
      "  [7 8 9]]]\n",
      "Dimension is  3\n",
      "[1 2 3 4 5 6 7 8 9]\n",
      "Now the new dimension is  1\n"
     ]
    }
   ],
   "source": [
    "m = np.array([[\n",
    "    [1,2,3],\n",
    "    [4,5,6],\n",
    "    [7,8,9]]])\n",
    "\n",
    "print(m)\n",
    "print(\"Dimension is \", m.ndim)\n",
    "n = m.ravel()\n",
    "print(n)\n",
    "print(\"Now the new dimension is \",n.ndim)"
   ]
  },
  {
   "cell_type": "code",
   "execution_count": 37,
   "id": "d0671ca2-d1ca-4c4c-bd19-1f6f0572a436",
   "metadata": {},
   "outputs": [
    {
     "name": "stdout",
     "output_type": "stream",
     "text": [
      "[[[1 2 3]\n",
      "  [4 5 6]\n",
      "  [7 8 9]]]\n",
      "Dimension is  3\n",
      "[1 2 3 4 5 6 7 8 9]\n",
      "Now the new dimension is  1\n"
     ]
    }
   ],
   "source": [
    "m = np.array([[\n",
    "    [1,2,3],\n",
    "    [4,5,6],\n",
    "    [7,8,9]]])\n",
    "\n",
    "print(m)\n",
    "print(\"Dimension is \", m.ndim)\n",
    "n = m.flatten()\n",
    "print(n)\n",
    "print(\"Now the new dimension is \",n.ndim)"
   ]
  },
  {
   "cell_type": "code",
   "execution_count": 39,
   "id": "e2f9ee8f-eedf-4b47-a64d-d517517d4d87",
   "metadata": {},
   "outputs": [
    {
     "name": "stdout",
     "output_type": "stream",
     "text": [
      "[[[[ 1  2  3]\n",
      "   [78 89 25]\n",
      "   [45 26 84]]]]\n",
      "The Dimension is  4\n"
     ]
    }
   ],
   "source": [
    "c = np.array([[[\n",
    "    [1,2,3],[78,89,25],[45,26,84]]]])\n",
    "\n",
    "print(c)\n",
    "print(\"The Dimension is \", c.ndim)"
   ]
  },
  {
   "cell_type": "code",
   "execution_count": 43,
   "id": "09739589-cb08-46ac-af88-5f12b1eaeb8c",
   "metadata": {},
   "outputs": [
    {
     "name": "stdout",
     "output_type": "stream",
     "text": [
      "[[[[ 1  2  3]\n",
      "   [78 89 25]\n",
      "   [45 26 84]]]]\n",
      "The Dimension is  4\n",
      "[ 1  2  3 78 89 25 45 26 84]\n",
      "Now the new dimension is 1\n"
     ]
    }
   ],
   "source": [
    "c = np.array([[[\n",
    "    [1,2,3],[78,89,25],[45,26,84]]]])\n",
    "\n",
    "print(c)\n",
    "print(\"The Dimension is \", c.ndim)\n",
    "d = c.ravel()\n",
    "print(d)\n",
    "print(\"Now the new dimension is\", d.ndim)"
   ]
  },
  {
   "cell_type": "code",
   "execution_count": 49,
   "id": "c9720973-3c28-41f9-bfbd-eb566f062833",
   "metadata": {},
   "outputs": [
    {
     "name": "stdout",
     "output_type": "stream",
     "text": [
      "[12 14  1  4  5  6  7 22 33  7  6  9  1  2 12]\n",
      "The Unique value is :- [ 1  2  4  5  6  7  9 12 14 22 33]\n"
     ]
    }
   ],
   "source": [
    "# Unique Functions\n",
    "\n",
    "k = np.array([12,14,1,4,5,6,7,22,33,7,6,9,1,2,12])\n",
    "print(k)\n",
    "x = np.unique(k)\n",
    "print(\"The Unique value is :-\" ,x)"
   ]
  },
  {
   "cell_type": "code",
   "execution_count": 51,
   "id": "c4baf068-9049-4c8a-aa31-d4df21408695",
   "metadata": {},
   "outputs": [
    {
     "name": "stdout",
     "output_type": "stream",
     "text": [
      "[12 14  1  4  5  6  7 22 33  7  6  9  1  2 12]\n",
      "The Unique value is :- (array([ 1,  2,  4,  5,  6,  7,  9, 12, 14, 22, 33]), array([ 2, 13,  3,  4,  5,  6, 11,  0,  1,  7,  8]))\n"
     ]
    }
   ],
   "source": [
    "k = np.array([12,14,1,4,5,6,7,22,33,7,6,9,1,2,12])\n",
    "print(k)\n",
    "x = np.unique(k, return_index = True)\n",
    "print(\"The Unique value is :-\" ,x)\n"
   ]
  },
  {
   "cell_type": "code",
   "execution_count": 53,
   "id": "f5e95670-eafe-4ba5-b729-32b6344c9797",
   "metadata": {},
   "outputs": [
    {
     "name": "stdout",
     "output_type": "stream",
     "text": [
      "[12 14  1  4  5  6  7 22 33  7  6  9  1  2 12]\n",
      "The Unique value is :- (array([ 1,  2,  4,  5,  6,  7,  9, 12, 14, 22, 33]), array([ 2, 13,  3,  4,  5,  6, 11,  0,  1,  7,  8]), array([2, 1, 1, 1, 2, 2, 1, 2, 1, 1, 1]))\n"
     ]
    }
   ],
   "source": [
    "k = np.array([12,14,1,4,5,6,7,22,33,7,6,9,1,2,12])\n",
    "print(k)\n",
    "x = np.unique(k, return_index = True, return_counts = True)\n",
    "print(\"The Unique value is :-\" ,x)"
   ]
  },
  {
   "cell_type": "code",
   "execution_count": 55,
   "id": "89391a89-f677-4d94-9ac8-b7a4f4fcb71c",
   "metadata": {},
   "outputs": [
    {
     "name": "stdout",
     "output_type": "stream",
     "text": [
      "[12 14 15]\n"
     ]
    }
   ],
   "source": [
    "# Delete function in NumPy.\n",
    "\n",
    "a = np.array([12,13,14,15])\n",
    "\n",
    "d = np.delete(a, [1])\n",
    "print(d)"
   ]
  },
  {
   "cell_type": "code",
   "execution_count": 61,
   "id": "847933e1-00ce-4b74-8cb8-90c31767b1c5",
   "metadata": {},
   "outputs": [
    {
     "name": "stdout",
     "output_type": "stream",
     "text": [
      "[[ 2  7  9  6  8]\n",
      " [ 4  5  7  1  2]\n",
      " [50  0 65  6  7]]\n",
      "\n",
      "[[ 2  7  9  6  8]\n",
      " [50  0 65  6  7]]\n"
     ]
    }
   ],
   "source": [
    "x = np.array([\n",
    "    [2,7,9,6,8],[4,5,7,1,2],[50,0,65,6,7]])\n",
    "print(x)\n",
    "\n",
    "m = np.delete(x, 1, axis = 0)\n",
    "print()\n",
    "print(m)"
   ]
  },
  {
   "cell_type": "code",
   "execution_count": null,
   "id": "d28c04ef-5e96-422f-a055-85876d15abd4",
   "metadata": {},
   "outputs": [],
   "source": []
  }
 ],
 "metadata": {
  "kernelspec": {
   "display_name": "Python 3 (ipykernel)",
   "language": "python",
   "name": "python3"
  },
  "language_info": {
   "codemirror_mode": {
    "name": "ipython",
    "version": 3
   },
   "file_extension": ".py",
   "mimetype": "text/x-python",
   "name": "python",
   "nbconvert_exporter": "python",
   "pygments_lexer": "ipython3",
   "version": "3.12.4"
  }
 },
 "nbformat": 4,
 "nbformat_minor": 5
}
