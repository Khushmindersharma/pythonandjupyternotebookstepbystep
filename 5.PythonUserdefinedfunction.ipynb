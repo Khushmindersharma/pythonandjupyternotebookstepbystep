{
 "cells": [
  {
   "cell_type": "code",
   "execution_count": null,
   "id": "5648c032-1d28-4bd5-b779-d06c7b30e4fb",
   "metadata": {},
   "outputs": [],
   "source": [
    "# Project to do\n",
    "\n",
    "# 1. WhatsApp chats analysis\n",
    "# 2. flipkart Reviews sentiment analysis\n",
    "# 3. Instagram Reach Analysis\n",
    "# 4. Movie Recommendation System Project\n",
    "# 5. PUBG Weapon Stats analysis\n",
    "# 6. Indian Premier League analysis\n",
    "# 7. Shipping E-commerce\n",
    "# 8. Uber Drives Data Analysis\n",
    "# 9. Netflix Stock prediction\n",
    "#10. Analysis of FIFA World Cup\n",
    "#11. Virat Kohli ODI T20 performance Index\n",
    "#12. Stock Market Analysis\n",
    "#13. Analysis of Spotify trends\n",
    "#14. Covid-19 Impacts Analysis\n",
    "#15  Adani Stock case study\n",
    "#16  Indian General Election 2019\n",
    "#17. Analysis of Amazon global super store.\n",
    "#18. Data analysis of Myntra Store.\n",
    "\n",
    "# The real-time project covers the industries like Social Media, E-commerce,Retail,Supply Chain, \n",
    "# Entrepreneurship, Fintech,Transportation,Gaming and other industires.\n",
    "\n",
    "# data science\n",
    "\n",
    "# machine learning algo\n",
    "# deep learning\n",
    "# statistics\n",
    "# feature engineering\n",
    "# computer vision\n",
    "\n",
    "# Aesthetic Vision Analysis\n",
    "\n"
   ]
  },
  {
   "cell_type": "code",
   "execution_count": null,
   "id": "64f56cfe-8107-4337-b36f-e7c70673f7f5",
   "metadata": {},
   "outputs": [],
   "source": [
    "# Functions that we define ourseleves to do certain specific task are refered as user-defined functions.\n",
    "# All the functions that are written by any of us comes under the category of user defined functions.\n",
    "# A function is a reusable block of programming statements designed to perform a certain task.\n"
   ]
  },
  {
   "cell_type": "code",
   "execution_count": null,
   "id": "f35129fa",
   "metadata": {},
   "outputs": [],
   "source": [
    "# Advantages of user-defined functions\n",
    "# User-defined functions help to decompose a large program into small segments which makes program easy to understand,maintain and debug.\n",
    "# If repeated code occurs in a program.\n",
    "# Function can be used to include those codes and execute when needed by calling that function.\n",
    "# Programmars working on large project can divide the workload by making different functions.\n",
    "\n",
    "# Creating a Function\n",
    "# In python a function is defined using the def keyword:\n",
    "\n",
    "# Example\n",
    "\n",
    "# def my_function():\n",
    "#   print(\"Hello from a function\")\n",
    "\n",
    "\n"
   ]
  },
  {
   "cell_type": "code",
   "execution_count": null,
   "id": "fca9f39b",
   "metadata": {},
   "outputs": [],
   "source": [
    "# how to call a function\n",
    "# to call a function,use the function name followed by parenthesis:\n",
    "\n",
    "# Example\n",
    "\n",
    "def my_function():\n",
    "    print(\"Hello World\")\n",
    "\n",
    "    # to call a function()\n",
    "\n",
    "my_function()"
   ]
  },
  {
   "cell_type": "code",
   "execution_count": 2,
   "id": "3816a905",
   "metadata": {},
   "outputs": [],
   "source": [
    "# Making the result of a student.\n",
    "\n",
    "def contact():\n",
    "    print(\"Contact details of the school\")\n",
    "    print(\"Delhi public school\")\n",
    "    print(\"Bangalore Karanatka\")\n",
    "    print(\"7825821141\")\n",
    "    print(\"dps.contact@gamil.com\")\n",
    "    "
   ]
  },
  {
   "cell_type": "code",
   "execution_count": 3,
   "id": "f76b123d",
   "metadata": {},
   "outputs": [
    {
     "name": "stdout",
     "output_type": "stream",
     "text": [
      "\n",
      "Contact details of the school\n",
      "Delhi public school\n",
      "Bangalore Karanatka\n",
      "7825821141\n",
      "dps.contact@gamil.com\n",
      "\n",
      "Contact details of the school\n",
      "Delhi public school\n",
      "Bangalore Karanatka\n",
      "7825821141\n",
      "dps.contact@gamil.com\n",
      "\n",
      "Contact details of the school\n",
      "Delhi public school\n",
      "Bangalore Karanatka\n",
      "7825821141\n",
      "dps.contact@gamil.com\n",
      "\n",
      "Contact details of the school\n",
      "Delhi public school\n",
      "Bangalore Karanatka\n",
      "7825821141\n",
      "dps.contact@gamil.com\n"
     ]
    }
   ],
   "source": [
    "for i in range(4):\n",
    "    a = input(\"Name of the Student\")\n",
    "    b = int(input(\"Enter the marks of Maths\"))\n",
    "    c = int(input(\"Enter the marks of science\"))\n",
    "    d = int(input(\"Enter the marks of social science\"))\n",
    "    print()\n",
    "    contact()4"
   ]
  },
  {
   "cell_type": "code",
   "execution_count": 2,
   "id": "e238435b",
   "metadata": {},
   "outputs": [],
   "source": [
    "# Arguments\n",
    "\n",
    "# information pass in the function is called arguments.\n",
    "\n",
    "def my_function(fname):\n",
    "    print(fname + \"Sharma\")\n",
    "    "
   ]
  },
  {
   "cell_type": "code",
   "execution_count": 3,
   "id": "7388d6ae",
   "metadata": {},
   "outputs": [
    {
     "name": "stdout",
     "output_type": "stream",
     "text": [
      "PoojaSharma\n",
      "PriyaSharma\n"
     ]
    }
   ],
   "source": [
    "my_function(\"Pooja\")\n",
    "my_function(\"Priya\")"
   ]
  },
  {
   "cell_type": "code",
   "execution_count": 4,
   "id": "c34d4e3a",
   "metadata": {},
   "outputs": [
    {
     "name": "stdout",
     "output_type": "stream",
     "text": [
      "shreya Goshal\n"
     ]
    }
   ],
   "source": [
    "def my_function1(fname, lname):\n",
    "    print(fname + \" \" + lname)\n",
    "\n",
    "\n",
    "my_function1(\"shreya\", \"Goshal\")"
   ]
  },
  {
   "cell_type": "code",
   "execution_count": 8,
   "id": "820cbe92",
   "metadata": {},
   "outputs": [],
   "source": [
    "# write a program to calculate the electricity bill\n",
    "# Electricity bill\n",
    "# 500 unit = rs 5,700 unit = rs 10 1000 unit = rs.15,more than 1000 unit = rs 20\n",
    "\n",
    "def electricity_bill(n):\n",
    "    if n <=500:\n",
    "        print(\"Your bill is Rs\", n*5)\n",
    "    elif n>500 and n <=700:\n",
    "        print(\"Your bill is Rs\", n*10)\n",
    "    elif n>700 and n<=1000:\n",
    "        print(\"Your Bill is Rs\", n*15)\n",
    "    elif n >1000:\n",
    "        print(\"Your bill is Rs\", n*20)\n",
    "\n",
    "\n",
    "def instruction():\n",
    "    print( \"Last date of paying the bill is 20th April\")\n",
    "    print(\"After 20th aoril you need to pay 1000 Rs as a fine\")\n",
    "    print(\"Electricity office New Delhi\")\n",
    "    \n",
    "          \n",
    "\n"
   ]
  },
  {
   "cell_type": "code",
   "execution_count": 9,
   "id": "8bdbf8fc",
   "metadata": {},
   "outputs": [
    {
     "name": "stdout",
     "output_type": "stream",
     "text": [
      "Your bill is Rs 2250\n",
      "\n",
      "Last date of paying the bill is 20th April\n",
      "After 20th aoril you need to pay 1000 Rs as a fine\n",
      "Electricity office New Delhi\n",
      "Your bill is Rs 30000\n",
      "\n",
      "Last date of paying the bill is 20th April\n",
      "After 20th aoril you need to pay 1000 Rs as a fine\n",
      "Electricity office New Delhi\n",
      "Your bill is Rs 6500\n",
      "\n",
      "Last date of paying the bill is 20th April\n",
      "After 20th aoril you need to pay 1000 Rs as a fine\n",
      "Electricity office New Delhi\n"
     ]
    }
   ],
   "source": [
    "for i in range(3):\n",
    "    a = input(\"Enter the name of the customer\")\n",
    "    n = int(input(\"Enter the unit of electricity you have used\"))\n",
    "    electricity_bill(n)\n",
    "    print()\n",
    "    instruction()"
   ]
  },
  {
   "cell_type": "code",
   "execution_count": null,
   "id": "14c6f0d2",
   "metadata": {},
   "outputs": [],
   "source": []
  }
 ],
 "metadata": {
  "kernelspec": {
   "display_name": "Python 3",
   "language": "python",
   "name": "python3"
  },
  "language_info": {
   "codemirror_mode": {
    "name": "ipython",
    "version": 3
   },
   "file_extension": ".py",
   "mimetype": "text/x-python",
   "name": "python",
   "nbconvert_exporter": "python",
   "pygments_lexer": "ipython3",
   "version": "3.12.6"
  }
 },
 "nbformat": 4,
 "nbformat_minor": 5
}
